{
 "cells": [
  {
   "cell_type": "code",
   "execution_count": 58,
   "id": "987a9c6a",
   "metadata": {},
   "outputs": [],
   "source": [
    "import os\n",
    "\n",
    "all_paths = []\n",
    "for root, dirs, files in os.walk(\"./processed_data\"):\n",
    "    for file in files:\n",
    "        if file.endswith(\".txt\"):\n",
    "             all_paths.append(os.path.join(root, file))"
   ]
  },
  {
   "cell_type": "code",
   "execution_count": 78,
   "id": "c410079e",
   "metadata": {},
   "outputs": [],
   "source": [
    "import sentencepiece as spm\n",
    "import os\n",
    "\n",
    "data = \",\".join(all_paths)\n",
    "\n",
    "options = dict(\n",
    "    input=data,\n",
    "    model_prefix='tokenicer',\n",
    "    model_type='bpe',\n",
    "    vocab_size=3000,\n",
    "    normalization_rule_name='identity',\n",
    "    remove_extra_whitespaces=False,\n",
    "    input_sentence_size=2*1e6,\n",
    "    max_sentence_length=4192,\n",
    "    seed_sentencepiece_size=1e5,\n",
    "    shuffle_input_sentence=True,\n",
    "    #rare word treatment\n",
    "    character_coverage=0.9995,\n",
    "    byte_fallback=True,\n",
    "    #merge rules\n",
    "    split_digits=True,\n",
    "    split_by_unicode_script=True,\n",
    "    split_by_whitespace=True,\n",
    "    split_by_number=True,\n",
    "    max_sentencepiece_length=16,\n",
    "    add_dummy_prefix=True,\n",
    "    allow_whitespace_only_pieces=True,\n",
    "    #special tokens\n",
    "    unk_id=0, # the unk token MUST exist\n",
    "    bos_id=1,\n",
    "    eos_id=2,\n",
    "    pad_id=-1,\n",
    "    # system\n",
    "    num_threads=os.cpu_count(), # use all cores\n",
    ")\n",
    "\n",
    "spm.SentencePieceTrainer.train(**options)"
   ]
  },
  {
   "cell_type": "code",
   "execution_count": 79,
   "id": "6c8393b5",
   "metadata": {},
   "outputs": [],
   "source": [
    "# Generates a dictionary mapping unique texts/tokens with their corresponding color\n",
    "def get_token_colors(text, tokenizer):\n",
    "    tokens = tokenizer.tokenize(text)\n",
    "    unique_tokens = list(set(tokens))\n",
    "    token_colors = {token: number_to_color(index) for index, token in enumerate(unique_tokens)}\n",
    "    return token_colors\n",
    "\n",
    "def get_token_colors_sentencepiece(text, tokenizer):\n",
    "    tokens = tokenizer.encode_as_pieces(text)\n",
    "    unique_tokens = list(set(tokens))\n",
    "    token_colors = {token: number_to_color(index) for index, token in enumerate(unique_tokens)}\n",
    "    return token_colors\n",
    "\n",
    "\n",
    "# Displays the tokens with the unique color\n",
    "def display_colored_tokens(tokens, token_colors):\n",
    "    colored_text = \"\"\n",
    "    for token in tokens:\n",
    "        color = token_colors[token]\n",
    "        colored_text += f'<span style=\"background-color: {color}; padding: 2px;\">{token}</span> '\n",
    "\n",
    "    display(HTML(colored_text))\n",
    "\n",
    "# Generates a unique HSL color based on the index of the token\n",
    "def number_to_color(number):\n",
    "    golden_ratio_conjugate = 0.618033988749895\n",
    "    a = 1664525\n",
    "    c = 1013904223\n",
    "    m = 2**32\n",
    "\n",
    "    pseudorandom = (a * number + c) % m\n",
    "    hue = ((pseudorandom * golden_ratio_conjugate) % 1) * 360\n",
    "    s = 60 + (pseudorandom % 21)\n",
    "    l = 70 + (pseudorandom % 21)\n",
    "\n",
    "    return f\"hsl({hue}, {s}%, {l}%)\""
   ]
  },
  {
   "cell_type": "code",
   "execution_count": 83,
   "id": "a86a9c4c",
   "metadata": {},
   "outputs": [],
   "source": [
    "text = \"Nói albinói er fyrsta kvikmynd Dags Kára Péturssonar í fullri lengd. Hún fjallar um ungan dreng að nafni Nói, sem býr í afskekktum bæ á Íslandi. Nói á í erfiðleikum í skóla og fær litla virðingu heima hjá sér. Hann kynnist ungri stelpu frá Reykjavík og ákveður að strjúka í burtu með henni. En hún er ekki á sama máli. Kvikmyndin hlaut sex Edduverðlaun 2003 og var send í forval til Óskarsins 2004. \""
   ]
  },
  {
   "cell_type": "code",
   "execution_count": 84,
   "id": "d32902a2",
   "metadata": {},
   "outputs": [
    {
     "data": {
      "text/html": [
       "<p><b>Model:</b> tokenICEr</p><p><b>Tokens:</b>"
      ],
      "text/plain": [
       "<IPython.core.display.HTML object>"
      ]
     },
     "metadata": {},
     "output_type": "display_data"
    },
    {
     "data": {
      "text/html": [
       "<span style=\"background-color: hsl(157.4386739730835, 63%, 73%); padding: 2px;\">▁N</span> <span style=\"background-color: hsl(253.3605194091797, 72%, 82%); padding: 2px;\">ó</span> <span style=\"background-color: hsl(171.95903778076172, 75%, 85%); padding: 2px;\">i</span> <span style=\"background-color: hsl(56.16352558135986, 66%, 76%); padding: 2px;\">▁al</span> <span style=\"background-color: hsl(356.4201307296753, 65%, 75%); padding: 2px;\">b</span> <span style=\"background-color: hsl(65.20814895629883, 68%, 78%); padding: 2px;\">in</span> <span style=\"background-color: hsl(253.3605194091797, 72%, 82%); padding: 2px;\">ó</span> <span style=\"background-color: hsl(171.95903778076172, 75%, 85%); padding: 2px;\">i</span> <span style=\"background-color: hsl(229.79557514190674, 79%, 89%); padding: 2px;\">▁er</span> <span style=\"background-color: hsl(155.65425395965576, 67%, 77%); padding: 2px;\">▁fyr</span> <span style=\"background-color: hsl(244.31593894958496, 70%, 80%); padding: 2px;\">sta</span> <span style=\"background-color: hsl(217.1821117401123, 64%, 74%); padding: 2px;\">▁kv</span> <span style=\"background-color: hsl(153.86983394622803, 71%, 81%); padding: 2px;\">ik</span> <span style=\"background-color: hsl(256.9294023513794, 64%, 74%); padding: 2px;\">m</span> <span style=\"background-color: hsl(311.1970567703247, 76%, 86%); padding: 2px;\">y</span> <span style=\"background-color: hsl(66.99256896972656, 64%, 74%); padding: 2px;\">nd</span> <span style=\"background-color: hsl(30.81411838531494, 77%, 87%); padding: 2px;\">▁D</span> <span style=\"background-color: hsl(47.1189022064209, 64%, 74%); padding: 2px;\">ag</span> <span style=\"background-color: hsl(336.54646396636963, 65%, 75%); padding: 2px;\">s</span> <span style=\"background-color: hsl(21.769537925720215, 75%, 85%); padding: 2px;\">▁Kára</span> <span style=\"background-color: hsl(54.37910556793213, 70%, 80%); padding: 2px;\">▁</span> <span style=\"background-color: hsl(3.680291175842285, 71%, 81%); padding: 2px;\"><0x50></span> <span style=\"background-color: hsl(265.97402572631836, 66%, 76%); padding: 2px;\">é</span> <span style=\"background-color: hsl(347.3755073547363, 63%, 73%); padding: 2px;\">tur</span> <span style=\"background-color: hsl(72.46830940246582, 74%, 84%); padding: 2px;\">ssonar</span> <span style=\"background-color: hsl(130.30484676361084, 78%, 88%); padding: 2px;\">▁í</span> <span style=\"background-color: hsl(218.96653175354004, 60%, 70%); padding: 2px;\">▁full</span> <span style=\"background-color: hsl(325.71742057800293, 67%, 77%); padding: 2px;\">ri</span> <span style=\"background-color: hsl(262.40514278411865, 74%, 84%); padding: 2px;\">▁leng</span> <span style=\"background-color: hsl(209.92190837860107, 79%, 89%); padding: 2px;\">d</span> <span style=\"background-color: hsl(280.49434661865234, 78%, 88%); padding: 2px;\">.</span> <span style=\"background-color: hsl(226.22669219970703, 66%, 76%); padding: 2px;\">▁Hún</span> <span style=\"background-color: hsl(264.1895627975464, 70%, 80%); padding: 2px;\">▁fjall</span> <span style=\"background-color: hsl(316.67279720306396, 65%, 75%); padding: 2px;\">ar</span> <span style=\"background-color: hsl(302.15247631073, 74%, 84%); padding: 2px;\">▁um</span> <span style=\"background-color: hsl(23.55395793914795, 71%, 81%); padding: 2px;\">▁un</span> <span style=\"background-color: hsl(235.271315574646, 68%, 78%); padding: 2px;\">gan</span> <span style=\"background-color: hsl(81.51293277740479, 76%, 86%); padding: 2px;\">▁dreng</span> <span style=\"background-color: hsl(10.940494537353516, 77%, 87%); padding: 2px;\">▁að</span> <span style=\"background-color: hsl(103.17101955413818, 72%, 82%); padding: 2px;\">▁naf</span> <span style=\"background-color: hsl(14.509334564208984, 69%, 79%); padding: 2px;\">ni</span> <span style=\"background-color: hsl(157.4386739730835, 63%, 73%); padding: 2px;\">▁N</span> <span style=\"background-color: hsl(253.3605194091797, 72%, 82%); padding: 2px;\">ó</span> <span style=\"background-color: hsl(171.95903778076172, 75%, 85%); padding: 2px;\">i</span> <span style=\"background-color: hsl(220.75095176696777, 77%, 87%); padding: 2px;\">,</span> <span style=\"background-color: hsl(320.2416801452637, 78%, 88%); padding: 2px;\">▁sem</span> <span style=\"background-color: hsl(12.72491455078125, 73%, 83%); padding: 2px;\">▁b</span> <span style=\"background-color: hsl(173.74345779418945, 71%, 81%); padding: 2px;\">ýr</span> <span style=\"background-color: hsl(130.30484676361084, 78%, 88%); padding: 2px;\">▁í</span> <span style=\"background-color: hsl(29.029698371887207, 60%, 70%); padding: 2px;\">▁af</span> <span style=\"background-color: hsl(282.2788095474243, 74%, 84%); padding: 2px;\">sk</span> <span style=\"background-color: hsl(182.78808116912842, 73%, 83%); padding: 2px;\">e</span> <span style=\"background-color: hsl(190.0482416152954, 79%, 89%); padding: 2px;\">kk</span> <span style=\"background-color: hsl(193.61712455749512, 71%, 81%); padding: 2px;\">tum</span> <span style=\"background-color: hsl(101.38659954071045, 76%, 86%); padding: 2px;\">▁bæ</span> <span style=\"background-color: hsl(137.56500720977783, 63%, 73%); padding: 2px;\">▁á</span> <span style=\"background-color: hsl(327.50184059143066, 63%, 73%); padding: 2px;\">▁Íslandi</span> <span style=\"background-color: hsl(280.49434661865234, 78%, 88%); padding: 2px;\">.</span> <span style=\"background-color: hsl(157.4386739730835, 63%, 73%); padding: 2px;\">▁N</span> <span style=\"background-color: hsl(253.3605194091797, 72%, 82%); padding: 2px;\">ó</span> <span style=\"background-color: hsl(171.95903778076172, 75%, 85%); padding: 2px;\">i</span> <span style=\"background-color: hsl(137.56500720977783, 63%, 73%); padding: 2px;\">▁á</span> <span style=\"background-color: hsl(130.30484676361084, 78%, 88%); padding: 2px;\">▁í</span> <span style=\"background-color: hsl(293.107852935791, 72%, 82%); padding: 2px;\">▁erf</span> <span style=\"background-color: hsl(19.985074996948242, 79%, 89%); padding: 2px;\">ið</span> <span style=\"background-color: hsl(345.5910873413086, 67%, 77%); padding: 2px;\">lei</span> <span style=\"background-color: hsl(343.8066244125366, 71%, 81%); padding: 2px;\">k</span> <span style=\"background-color: hsl(271.4497661590576, 76%, 86%); padding: 2px;\">um</span> <span style=\"background-color: hsl(130.30484676361084, 78%, 88%); padding: 2px;\">▁í</span> <span style=\"background-color: hsl(191.83270454406738, 75%, 85%); padding: 2px;\">▁skó</span> <span style=\"background-color: hsl(39.858741760253906, 79%, 89%); padding: 2px;\">la</span> <span style=\"background-color: hsl(289.5389699935913, 80%, 90%); padding: 2px;\">▁og</span> <span style=\"background-color: hsl(164.69887733459473, 69%, 79%); padding: 2px;\">▁fær</span> <span style=\"background-color: hsl(128.5204267501831, 61%, 71%); padding: 2px;\">▁li</span> <span style=\"background-color: hsl(238.8401985168457, 60%, 70%); padding: 2px;\">tla</span> <span style=\"background-color: hsl(300.368013381958, 78%, 88%); padding: 2px;\">▁vir</span> <span style=\"background-color: hsl(90.55755615234375, 78%, 88%); padding: 2px;\">ðing</span> <span style=\"background-color: hsl(99.60213661193848, 80%, 90%); padding: 2px;\">u</span> <span style=\"background-color: hsl(307.62821674346924, 63%, 73%); padding: 2px;\">▁heima</span> <span style=\"background-color: hsl(74.2527723312378, 70%, 80%); padding: 2px;\">▁hjá</span> <span style=\"background-color: hsl(181.00366115570068, 77%, 87%); padding: 2px;\">▁sér</span> <span style=\"background-color: hsl(280.49434661865234, 78%, 88%); padding: 2px;\">.</span> <span style=\"background-color: hsl(338.33088397979736, 61%, 71%); padding: 2px;\">▁Hann</span> <span style=\"background-color: hsl(5.4647111892700195, 67%, 77%); padding: 2px;\">▁k</span> <span style=\"background-color: hsl(311.1970567703247, 76%, 86%); padding: 2px;\">y</span> <span style=\"background-color: hsl(284.06322956085205, 70%, 80%); padding: 2px;\">nn</span> <span style=\"background-color: hsl(298.5835933685303, 61%, 71%); padding: 2px;\">ist</span> <span style=\"background-color: hsl(54.37910556793213, 70%, 80%); padding: 2px;\">▁</span> <span style=\"background-color: hsl(76.03719234466553, 66%, 76%); padding: 2px;\">ung</span> <span style=\"background-color: hsl(325.71742057800293, 67%, 77%); padding: 2px;\">ri</span> <span style=\"background-color: hsl(1.8958711624145508, 75%, 85%); padding: 2px;\">▁st</span> <span style=\"background-color: hsl(166.48329734802246, 65%, 75%); padding: 2px;\">el</span> <span style=\"background-color: hsl(202.66174793243408, 73%, 83%); padding: 2px;\">pu</span> <span style=\"background-color: hsl(352.8512477874756, 73%, 83%); padding: 2px;\">▁frá</span> <span style=\"background-color: hsl(247.88477897644043, 62%, 72%); padding: 2px;\">▁Rey</span> <span style=\"background-color: hsl(57.9479455947876, 62%, 72%); padding: 2px;\">kja</span> <span style=\"background-color: hsl(273.23418617248535, 72%, 82%); padding: 2px;\">ví</span> <span style=\"background-color: hsl(343.8066244125366, 71%, 81%); padding: 2px;\">k</span> <span style=\"background-color: hsl(289.5389699935913, 80%, 90%); padding: 2px;\">▁og</span> <span style=\"background-color: hsl(200.8772850036621, 77%, 87%); padding: 2px;\">▁ák</span> <span style=\"background-color: hsl(162.91441440582275, 73%, 83%); padding: 2px;\">ve</span> <span style=\"background-color: hsl(184.57250118255615, 69%, 79%); padding: 2px;\">ður</span> <span style=\"background-color: hsl(10.940494537353516, 77%, 87%); padding: 2px;\">▁að</span> <span style=\"background-color: hsl(1.8958711624145508, 75%, 85%); padding: 2px;\">▁st</span> <span style=\"background-color: hsl(199.09286499023438, 60%, 70%); padding: 2px;\">r</span> <span style=\"background-color: hsl(146.6096305847168, 65%, 75%); padding: 2px;\">jú</span> <span style=\"background-color: hsl(246.1003589630127, 66%, 76%); padding: 2px;\">ka</span> <span style=\"background-color: hsl(130.30484676361084, 78%, 88%); padding: 2px;\">▁í</span> <span style=\"background-color: hsl(12.72491455078125, 73%, 83%); padding: 2px;\">▁b</span> <span style=\"background-color: hsl(48.90336513519287, 60%, 70%); padding: 2px;\">ur</span> <span style=\"background-color: hsl(85.08181571960449, 68%, 78%); padding: 2px;\">tu</span> <span style=\"background-color: hsl(144.82521057128906, 69%, 79%); padding: 2px;\">▁með</span> <span style=\"background-color: hsl(354.6356678009033, 69%, 79%); padding: 2px;\">▁henni</span> <span style=\"background-color: hsl(280.49434661865234, 78%, 88%); padding: 2px;\">.</span> <span style=\"background-color: hsl(110.43118000030518, 78%, 88%); padding: 2px;\">▁En</span> <span style=\"background-color: hsl(175.52792072296143, 67%, 77%); padding: 2px;\">▁hún</span> <span style=\"background-color: hsl(229.79557514190674, 79%, 89%); padding: 2px;\">▁er</span> <span style=\"background-color: hsl(211.7063283920288, 75%, 85%); padding: 2px;\">▁ekki</span> <span style=\"background-color: hsl(137.56500720977783, 63%, 73%); padding: 2px;\">▁á</span> <span style=\"background-color: hsl(126.73596382141113, 65%, 75%); padding: 2px;\">▁sama</span> <span style=\"background-color: hsl(309.412636756897, 80%, 90%); padding: 2px;\">▁máli</span> <span style=\"background-color: hsl(280.49434661865234, 78%, 88%); padding: 2px;\">.</span> <span style=\"background-color: hsl(334.7620439529419, 69%, 79%); padding: 2px;\">▁K</span> <span style=\"background-color: hsl(121.26022338867188, 76%, 86%); padding: 2px;\">vi</span> <span style=\"background-color: hsl(343.8066244125366, 71%, 81%); padding: 2px;\">k</span> <span style=\"background-color: hsl(256.9294023513794, 64%, 74%); padding: 2px;\">m</span> <span style=\"background-color: hsl(311.1970567703247, 76%, 86%); padding: 2px;\">y</span> <span style=\"background-color: hsl(66.99256896972656, 64%, 74%); padding: 2px;\">nd</span> <span style=\"background-color: hsl(65.20814895629883, 68%, 78%); padding: 2px;\">in</span> <span style=\"background-color: hsl(329.28630352020264, 80%, 90%); padding: 2px;\">▁hl</span> <span style=\"background-color: hsl(117.6913833618164, 63%, 73%); padding: 2px;\">aut</span> <span style=\"background-color: hsl(94.12639617919922, 70%, 80%); padding: 2px;\">▁sex</span> <span style=\"background-color: hsl(92.34197616577148, 74%, 84%); padding: 2px;\">▁E</span> <span style=\"background-color: hsl(119.47580337524414, 80%, 90%); padding: 2px;\">ddu</span> <span style=\"background-color: hsl(108.64675998687744, 61%, 71%); padding: 2px;\">ver</span> <span style=\"background-color: hsl(255.14498233795166, 68%, 78%); padding: 2px;\">ð</span> <span style=\"background-color: hsl(39.858741760253906, 79%, 89%); padding: 2px;\">la</span> <span style=\"background-color: hsl(318.45726013183594, 61%, 71%); padding: 2px;\">un</span> <span style=\"background-color: hsl(54.37910556793213, 70%, 80%); padding: 2px;\">▁</span> <span style=\"background-color: hsl(148.39405059814453, 61%, 71%); padding: 2px;\">2</span> <span style=\"background-color: hsl(139.3494701385498, 80%, 90%); padding: 2px;\"><0x30></span> <span style=\"background-color: hsl(139.3494701385498, 80%, 90%); padding: 2px;\"><0x30></span> <span style=\"background-color: hsl(291.3234329223633, 76%, 86%); padding: 2px;\"><0x33></span> <span style=\"background-color: hsl(289.5389699935913, 80%, 90%); padding: 2px;\">▁og</span> <span style=\"background-color: hsl(208.13748836517334, 62%, 72%); padding: 2px;\">▁var</span> <span style=\"background-color: hsl(135.7805871963501, 67%, 77%); padding: 2px;\">▁send</span> <span style=\"background-color: hsl(130.30484676361084, 78%, 88%); padding: 2px;\">▁í</span> <span style=\"background-color: hsl(38.07432174682617, 62%, 72%); padding: 2px;\">▁for</span> <span style=\"background-color: hsl(228.011155128479, 62%, 72%); padding: 2px;\">v</span> <span style=\"background-color: hsl(112.21564292907715, 74%, 84%); padding: 2px;\">al</span> <span style=\"background-color: hsl(63.423686027526855, 72%, 82%); padding: 2px;\">▁til</span> <span style=\"background-color: hsl(237.05573558807373, 64%, 74%); padding: 2px;\">▁Ó</span> <span style=\"background-color: hsl(282.2788095474243, 74%, 84%); padding: 2px;\">sk</span> <span style=\"background-color: hsl(316.67279720306396, 65%, 75%); padding: 2px;\">ar</span> <span style=\"background-color: hsl(275.0186061859131, 68%, 78%); padding: 2px;\">sins</span> <span style=\"background-color: hsl(54.37910556793213, 70%, 80%); padding: 2px;\">▁</span> <span style=\"background-color: hsl(148.39405059814453, 61%, 71%); padding: 2px;\">2</span> <span style=\"background-color: hsl(139.3494701385498, 80%, 90%); padding: 2px;\"><0x30></span> <span style=\"background-color: hsl(139.3494701385498, 80%, 90%); padding: 2px;\"><0x30></span> <span style=\"background-color: hsl(83.29735279083252, 72%, 82%); padding: 2px;\"><0x34></span> <span style=\"background-color: hsl(280.49434661865234, 78%, 88%); padding: 2px;\">.</span> <span style=\"background-color: hsl(54.37910556793213, 70%, 80%); padding: 2px;\">▁</span> "
      ],
      "text/plain": [
       "<IPython.core.display.HTML object>"
      ]
     },
     "metadata": {},
     "output_type": "display_data"
    },
    {
     "name": "stdout",
     "output_type": "stream",
     "text": [
      "Number of Tokens: 162\n",
      "Number of Characters: 399\n",
      "==================================================\n"
     ]
    }
   ],
   "source": [
    "from IPython.display import HTML, display\n",
    "import json\n",
    "\n",
    "sp = spm.SentencePieceProcessor()\n",
    "sp.load('tokenicer.model')\n",
    "\n",
    "tokens = sp.encode_as_pieces(text)\n",
    "\n",
    "token_colors = get_token_colors_sentencepiece(text, sp)\n",
    "\n",
    "display(HTML(f\"<p><b>Model:</b> tokenICEr</p><p><b>Tokens:</b>\"))\n",
    "display_colored_tokens(tokens, token_colors)\n",
    "\n",
    "# Calculate and display the number of tokens and characters\n",
    "num_tokens = len(tokens)\n",
    "num_chars = len(text)\n",
    "print(f\"Number of Tokens: {num_tokens}\")\n",
    "print(f\"Number of Characters: {num_chars}\")\n",
    "print(\"=\"*50)"
   ]
  },
  {
   "cell_type": "code",
   "execution_count": 85,
   "id": "fdef18be",
   "metadata": {},
   "outputs": [
    {
     "data": {
      "text/html": [
       "<p><b>Model:</b> openai-community/gpt2</p><p><b>Tokens:</b>"
      ],
      "text/plain": [
       "<IPython.core.display.HTML object>"
      ]
     },
     "metadata": {},
     "output_type": "display_data"
    },
    {
     "data": {
      "text/html": [
       "<span style=\"background-color: hsl(157.4386739730835, 63%, 73%); padding: 2px;\">N</span> <span style=\"background-color: hsl(291.3234329223633, 76%, 86%); padding: 2px;\">Ã³</span> <span style=\"background-color: hsl(162.91441440582275, 73%, 83%); padding: 2px;\">i</span> <span style=\"background-color: hsl(48.90336513519287, 60%, 70%); padding: 2px;\">Ġal</span> <span style=\"background-color: hsl(228.011155128479, 62%, 72%); padding: 2px;\">bin</span> <span style=\"background-color: hsl(291.3234329223633, 76%, 86%); padding: 2px;\">Ã³</span> <span style=\"background-color: hsl(162.91441440582275, 73%, 83%); padding: 2px;\">i</span> <span style=\"background-color: hsl(41.64316177368164, 75%, 85%); padding: 2px;\">Ġer</span> <span style=\"background-color: hsl(247.88477897644043, 62%, 72%); padding: 2px;\">Ġf</span> <span style=\"background-color: hsl(54.37910556793213, 70%, 80%); padding: 2px;\">yr</span> <span style=\"background-color: hsl(208.13748836517334, 62%, 72%); padding: 2px;\">sta</span> <span style=\"background-color: hsl(175.52792072296143, 67%, 77%); padding: 2px;\">Ġk</span> <span style=\"background-color: hsl(12.72491455078125, 73%, 83%); padding: 2px;\">vik</span> <span style=\"background-color: hsl(50.687785148620605, 77%, 87%); padding: 2px;\">my</span> <span style=\"background-color: hsl(121.26022338867188, 76%, 86%); padding: 2px;\">nd</span> <span style=\"background-color: hsl(199.09286499023438, 60%, 70%); padding: 2px;\">ĠD</span> <span style=\"background-color: hsl(29.029698371887207, 60%, 70%); padding: 2px;\">ags</span> <span style=\"background-color: hsl(10.940494537353516, 77%, 87%); padding: 2px;\">ĠK</span> <span style=\"background-color: hsl(191.83270454406738, 75%, 85%); padding: 2px;\">Ã¡</span> <span style=\"background-color: hsl(72.46830940246582, 74%, 84%); padding: 2px;\">ra</span> <span style=\"background-color: hsl(217.1821117401123, 64%, 74%); padding: 2px;\">ĠP</span> <span style=\"background-color: hsl(298.5835933685303, 61%, 71%); padding: 2px;\">Ã©t</span> <span style=\"background-color: hsl(85.08181571960449, 68%, 78%); padding: 2px;\">ur</span> <span style=\"background-color: hsl(293.107852935791, 72%, 82%); padding: 2px;\">sson</span> <span style=\"background-color: hsl(325.71742057800293, 67%, 77%); padding: 2px;\">ar</span> <span style=\"background-color: hsl(171.95903778076172, 75%, 85%); padding: 2px;\">ĠÃ</span> <span style=\"background-color: hsl(5.4647111892700195, 67%, 77%); padding: 2px;\">Ń</span> <span style=\"background-color: hsl(14.509334564208984, 69%, 79%); padding: 2px;\">Ġfull</span> <span style=\"background-color: hsl(343.8066244125366, 71%, 81%); padding: 2px;\">ri</span> <span style=\"background-color: hsl(47.1189022064209, 64%, 74%); padding: 2px;\">Ġleng</span> <span style=\"background-color: hsl(173.74345779418945, 71%, 81%); padding: 2px;\">d</span> <span style=\"background-color: hsl(262.40514278411865, 74%, 84%); padding: 2px;\">.</span> <span style=\"background-color: hsl(218.96653175354004, 60%, 70%); padding: 2px;\">ĠH</span> <span style=\"background-color: hsl(282.2788095474243, 74%, 84%); padding: 2px;\">Ãº</span> <span style=\"background-color: hsl(246.1003589630127, 66%, 76%); padding: 2px;\">n</span> <span style=\"background-color: hsl(247.88477897644043, 62%, 72%); padding: 2px;\">Ġf</span> <span style=\"background-color: hsl(135.7805871963501, 67%, 77%); padding: 2px;\">j</span> <span style=\"background-color: hsl(253.3605194091797, 72%, 82%); padding: 2px;\">all</span> <span style=\"background-color: hsl(325.71742057800293, 67%, 77%); padding: 2px;\">ar</span> <span style=\"background-color: hsl(354.6356678009033, 69%, 79%); padding: 2px;\">Ġum</span> <span style=\"background-color: hsl(108.64675998687744, 61%, 71%); padding: 2px;\">Ġun</span> <span style=\"background-color: hsl(190.0482416152954, 79%, 89%); padding: 2px;\">gan</span> <span style=\"background-color: hsl(302.15247631073, 74%, 84%); padding: 2px;\">Ġd</span> <span style=\"background-color: hsl(117.6913833618164, 63%, 73%); padding: 2px;\">re</span> <span style=\"background-color: hsl(345.5910873413086, 67%, 77%); padding: 2px;\">ng</span> <span style=\"background-color: hsl(148.39405059814453, 61%, 71%); padding: 2px;\">Ġa</span> <span style=\"background-color: hsl(275.0186061859131, 68%, 78%); padding: 2px;\">Ã°</span> <span style=\"background-color: hsl(347.3755073547363, 63%, 73%); padding: 2px;\">Ġn</span> <span style=\"background-color: hsl(1.8958711624145508, 75%, 85%); padding: 2px;\">af</span> <span style=\"background-color: hsl(68.7769889831543, 60%, 70%); padding: 2px;\">ni</span> <span style=\"background-color: hsl(30.81411838531494, 77%, 87%); padding: 2px;\">ĠN</span> <span style=\"background-color: hsl(291.3234329223633, 76%, 86%); padding: 2px;\">Ã³</span> <span style=\"background-color: hsl(162.91441440582275, 73%, 83%); padding: 2px;\">i</span> <span style=\"background-color: hsl(229.79557514190674, 79%, 89%); padding: 2px;\">,</span> <span style=\"background-color: hsl(318.45726013183594, 61%, 71%); padding: 2px;\">Ġsem</span> <span style=\"background-color: hsl(76.03719234466553, 66%, 76%); padding: 2px;\">Ġb</span> <span style=\"background-color: hsl(255.14498233795166, 68%, 78%); padding: 2px;\">Ã</span> <span style=\"background-color: hsl(103.17101955413818, 72%, 82%); padding: 2px;\">½</span> <span style=\"background-color: hsl(181.00366115570068, 77%, 87%); padding: 2px;\">r</span> <span style=\"background-color: hsl(171.95903778076172, 75%, 85%); padding: 2px;\">ĠÃ</span> <span style=\"background-color: hsl(5.4647111892700195, 67%, 77%); padding: 2px;\">Ń</span> <span style=\"background-color: hsl(320.2416801452637, 78%, 88%); padding: 2px;\">Ġaf</span> <span style=\"background-color: hsl(336.54646396636963, 65%, 75%); padding: 2px;\">s</span> <span style=\"background-color: hsl(237.05573558807373, 64%, 74%); padding: 2px;\">ke</span> <span style=\"background-color: hsl(352.8512477874756, 73%, 83%); padding: 2px;\">k</span> <span style=\"background-color: hsl(74.2527723312378, 70%, 80%); padding: 2px;\">kt</span> <span style=\"background-color: hsl(235.271315574646, 68%, 78%); padding: 2px;\">um</span> <span style=\"background-color: hsl(76.03719234466553, 66%, 76%); padding: 2px;\">Ġb</span> <span style=\"background-color: hsl(226.22669219970703, 66%, 76%); padding: 2px;\">Ã¦</span> <span style=\"background-color: hsl(171.95903778076172, 75%, 85%); padding: 2px;\">ĠÃ</span> <span style=\"background-color: hsl(63.423686027526855, 72%, 82%); padding: 2px;\">¡</span> <span style=\"background-color: hsl(171.95903778076172, 75%, 85%); padding: 2px;\">ĠÃ</span> <span style=\"background-color: hsl(329.28630352020264, 80%, 90%); padding: 2px;\">į</span> <span style=\"background-color: hsl(336.54646396636963, 65%, 75%); padding: 2px;\">s</span> <span style=\"background-color: hsl(280.49434661865234, 78%, 88%); padding: 2px;\">land</span> <span style=\"background-color: hsl(162.91441440582275, 73%, 83%); padding: 2px;\">i</span> <span style=\"background-color: hsl(262.40514278411865, 74%, 84%); padding: 2px;\">.</span> <span style=\"background-color: hsl(30.81411838531494, 77%, 87%); padding: 2px;\">ĠN</span> <span style=\"background-color: hsl(291.3234329223633, 76%, 86%); padding: 2px;\">Ã³</span> <span style=\"background-color: hsl(162.91441440582275, 73%, 83%); padding: 2px;\">i</span> <span style=\"background-color: hsl(171.95903778076172, 75%, 85%); padding: 2px;\">ĠÃ</span> <span style=\"background-color: hsl(63.423686027526855, 72%, 82%); padding: 2px;\">¡</span> <span style=\"background-color: hsl(171.95903778076172, 75%, 85%); padding: 2px;\">ĠÃ</span> <span style=\"background-color: hsl(5.4647111892700195, 67%, 77%); padding: 2px;\">Ń</span> <span style=\"background-color: hsl(41.64316177368164, 75%, 85%); padding: 2px;\">Ġer</span> <span style=\"background-color: hsl(155.65425395965576, 67%, 77%); padding: 2px;\">fi</span> <span style=\"background-color: hsl(275.0186061859131, 68%, 78%); padding: 2px;\">Ã°</span> <span style=\"background-color: hsl(139.3494701385498, 80%, 90%); padding: 2px;\">le</span> <span style=\"background-color: hsl(144.82521057128906, 69%, 79%); padding: 2px;\">ik</span> <span style=\"background-color: hsl(235.271315574646, 68%, 78%); padding: 2px;\">um</span> <span style=\"background-color: hsl(171.95903778076172, 75%, 85%); padding: 2px;\">ĠÃ</span> <span style=\"background-color: hsl(5.4647111892700195, 67%, 77%); padding: 2px;\">Ń</span> <span style=\"background-color: hsl(83.29735279083252, 72%, 82%); padding: 2px;\">Ġsk</span> <span style=\"background-color: hsl(291.3234329223633, 76%, 86%); padding: 2px;\">Ã³</span> <span style=\"background-color: hsl(94.12639617919922, 70%, 80%); padding: 2px;\">la</span> <span style=\"background-color: hsl(23.55395793914795, 71%, 81%); padding: 2px;\">Ġo</span> <span style=\"background-color: hsl(182.78808116912842, 73%, 83%); padding: 2px;\">g</span> <span style=\"background-color: hsl(247.88477897644043, 62%, 72%); padding: 2px;\">Ġf</span> <span style=\"background-color: hsl(226.22669219970703, 66%, 76%); padding: 2px;\">Ã¦</span> <span style=\"background-color: hsl(181.00366115570068, 77%, 87%); padding: 2px;\">r</span> <span style=\"background-color: hsl(56.16352558135986, 66%, 76%); padding: 2px;\">Ġlit</span> <span style=\"background-color: hsl(94.12639617919922, 70%, 80%); padding: 2px;\">la</span> <span style=\"background-color: hsl(300.368013381958, 78%, 88%); padding: 2px;\">Ġvir</span> <span style=\"background-color: hsl(275.0186061859131, 68%, 78%); padding: 2px;\">Ã°</span> <span style=\"background-color: hsl(238.8401985168457, 60%, 70%); padding: 2px;\">ingu</span> <span style=\"background-color: hsl(101.38659954071045, 76%, 86%); padding: 2px;\">Ġhe</span> <span style=\"background-color: hsl(146.6096305847168, 65%, 75%); padding: 2px;\">ima</span> <span style=\"background-color: hsl(166.48329734802246, 65%, 75%); padding: 2px;\">Ġh</span> <span style=\"background-color: hsl(135.7805871963501, 67%, 77%); padding: 2px;\">j</span> <span style=\"background-color: hsl(191.83270454406738, 75%, 85%); padding: 2px;\">Ã¡</span> <span style=\"background-color: hsl(39.858741760253906, 79%, 89%); padding: 2px;\">Ġs</span> <span style=\"background-color: hsl(338.33088397979736, 61%, 71%); padding: 2px;\">Ã©r</span> <span style=\"background-color: hsl(262.40514278411865, 74%, 84%); padding: 2px;\">.</span> <span style=\"background-color: hsl(38.07432174682617, 62%, 72%); padding: 2px;\">ĠHann</span> <span style=\"background-color: hsl(175.52792072296143, 67%, 77%); padding: 2px;\">Ġk</span> <span style=\"background-color: hsl(244.31593894958496, 70%, 80%); padding: 2px;\">yn</span> <span style=\"background-color: hsl(246.1003589630127, 66%, 76%); padding: 2px;\">n</span> <span style=\"background-color: hsl(271.4497661590576, 76%, 86%); padding: 2px;\">ist</span> <span style=\"background-color: hsl(108.64675998687744, 61%, 71%); padding: 2px;\">Ġun</span> <span style=\"background-color: hsl(182.78808116912842, 73%, 83%); padding: 2px;\">g</span> <span style=\"background-color: hsl(343.8066244125366, 71%, 81%); padding: 2px;\">ri</span> <span style=\"background-color: hsl(256.9294023513794, 64%, 74%); padding: 2px;\">Ġst</span> <span style=\"background-color: hsl(184.57250118255615, 69%, 79%); padding: 2px;\">el</span> <span style=\"background-color: hsl(202.66174793243408, 73%, 83%); padding: 2px;\">pu</span> <span style=\"background-color: hsl(356.4201307296753, 65%, 75%); padding: 2px;\">Ġfr</span> <span style=\"background-color: hsl(191.83270454406738, 75%, 85%); padding: 2px;\">Ã¡</span> <span style=\"background-color: hsl(220.75095176696777, 77%, 87%); padding: 2px;\">ĠRey</span> <span style=\"background-color: hsl(265.97402572631836, 66%, 76%); padding: 2px;\">kj</span> <span style=\"background-color: hsl(211.7063283920288, 75%, 85%); padding: 2px;\">av</span> <span style=\"background-color: hsl(128.5204267501831, 61%, 71%); padding: 2px;\">ÃŃ</span> <span style=\"background-color: hsl(352.8512477874756, 73%, 83%); padding: 2px;\">k</span> <span style=\"background-color: hsl(23.55395793914795, 71%, 81%); padding: 2px;\">Ġo</span> <span style=\"background-color: hsl(182.78808116912842, 73%, 83%); padding: 2px;\">g</span> <span style=\"background-color: hsl(171.95903778076172, 75%, 85%); padding: 2px;\">ĠÃ</span> <span style=\"background-color: hsl(63.423686027526855, 72%, 82%); padding: 2px;\">¡</span> <span style=\"background-color: hsl(352.8512477874756, 73%, 83%); padding: 2px;\">k</span> <span style=\"background-color: hsl(153.86983394622803, 71%, 81%); padding: 2px;\">ve</span> <span style=\"background-color: hsl(275.0186061859131, 68%, 78%); padding: 2px;\">Ã°</span> <span style=\"background-color: hsl(85.08181571960449, 68%, 78%); padding: 2px;\">ur</span> <span style=\"background-color: hsl(148.39405059814453, 61%, 71%); padding: 2px;\">Ġa</span> <span style=\"background-color: hsl(275.0186061859131, 68%, 78%); padding: 2px;\">Ã°</span> <span style=\"background-color: hsl(209.92190837860107, 79%, 89%); padding: 2px;\">Ġstr</span> <span style=\"background-color: hsl(135.7805871963501, 67%, 77%); padding: 2px;\">j</span> <span style=\"background-color: hsl(282.2788095474243, 74%, 84%); padding: 2px;\">Ãº</span> <span style=\"background-color: hsl(200.8772850036621, 77%, 87%); padding: 2px;\">ka</span> <span style=\"background-color: hsl(171.95903778076172, 75%, 85%); padding: 2px;\">ĠÃ</span> <span style=\"background-color: hsl(5.4647111892700195, 67%, 77%); padding: 2px;\">Ń</span> <span style=\"background-color: hsl(76.03719234466553, 66%, 76%); padding: 2px;\">Ġb</span> <span style=\"background-color: hsl(119.47580337524414, 80%, 90%); padding: 2px;\">urt</span> <span style=\"background-color: hsl(81.51293277740479, 76%, 86%); padding: 2px;\">u</span> <span style=\"background-color: hsl(193.61712455749512, 71%, 81%); padding: 2px;\">Ġme</span> <span style=\"background-color: hsl(275.0186061859131, 68%, 78%); padding: 2px;\">Ã°</span> <span style=\"background-color: hsl(110.43118000030518, 78%, 88%); padding: 2px;\">Ġhen</span> <span style=\"background-color: hsl(68.7769889831543, 60%, 70%); padding: 2px;\">ni</span> <span style=\"background-color: hsl(262.40514278411865, 74%, 84%); padding: 2px;\">.</span> <span style=\"background-color: hsl(289.5389699935913, 80%, 90%); padding: 2px;\">ĠEn</span> <span style=\"background-color: hsl(166.48329734802246, 65%, 75%); padding: 2px;\">Ġh</span> <span style=\"background-color: hsl(282.2788095474243, 74%, 84%); padding: 2px;\">Ãº</span> <span style=\"background-color: hsl(246.1003589630127, 66%, 76%); padding: 2px;\">n</span> <span style=\"background-color: hsl(41.64316177368164, 75%, 85%); padding: 2px;\">Ġer</span> <span style=\"background-color: hsl(164.69887733459473, 69%, 79%); padding: 2px;\">Ġe</span> <span style=\"background-color: hsl(352.8512477874756, 73%, 83%); padding: 2px;\">k</span> <span style=\"background-color: hsl(130.30484676361084, 78%, 88%); padding: 2px;\">ki</span> <span style=\"background-color: hsl(171.95903778076172, 75%, 85%); padding: 2px;\">ĠÃ</span> <span style=\"background-color: hsl(63.423686027526855, 72%, 82%); padding: 2px;\">¡</span> <span style=\"background-color: hsl(39.858741760253906, 79%, 89%); padding: 2px;\">Ġs</span> <span style=\"background-color: hsl(126.73596382141113, 65%, 75%); padding: 2px;\">ama</span> <span style=\"background-color: hsl(307.62821674346924, 63%, 73%); padding: 2px;\">Ġm</span> <span style=\"background-color: hsl(191.83270454406738, 75%, 85%); padding: 2px;\">Ã¡</span> <span style=\"background-color: hsl(334.7620439529419, 69%, 79%); padding: 2px;\">li</span> <span style=\"background-color: hsl(262.40514278411865, 74%, 84%); padding: 2px;\">.</span> <span style=\"background-color: hsl(10.940494537353516, 77%, 87%); padding: 2px;\">ĠK</span> <span style=\"background-color: hsl(12.72491455078125, 73%, 83%); padding: 2px;\">vik</span> <span style=\"background-color: hsl(50.687785148620605, 77%, 87%); padding: 2px;\">my</span> <span style=\"background-color: hsl(121.26022338867188, 76%, 86%); padding: 2px;\">nd</span> <span style=\"background-color: hsl(65.20814895629883, 68%, 78%); padding: 2px;\">in</span> <span style=\"background-color: hsl(166.48329734802246, 65%, 75%); padding: 2px;\">Ġh</span> <span style=\"background-color: hsl(92.34197616577148, 74%, 84%); padding: 2px;\">l</span> <span style=\"background-color: hsl(99.60213661193848, 80%, 90%); padding: 2px;\">aut</span> <span style=\"background-color: hsl(112.21564292907715, 74%, 84%); padding: 2px;\">Ġsex</span> <span style=\"background-color: hsl(284.06322956085205, 70%, 80%); padding: 2px;\">ĠEd</span> <span style=\"background-color: hsl(316.67279720306396, 65%, 75%); padding: 2px;\">du</span> <span style=\"background-color: hsl(90.55755615234375, 78%, 88%); padding: 2px;\">ver</span> <span style=\"background-color: hsl(275.0186061859131, 68%, 78%); padding: 2px;\">Ã°</span> <span style=\"background-color: hsl(19.985074996948242, 79%, 89%); padding: 2px;\">laun</span> <span style=\"background-color: hsl(32.598581314086914, 73%, 83%); padding: 2px;\">Ġ2003</span> <span style=\"background-color: hsl(23.55395793914795, 71%, 81%); padding: 2px;\">Ġo</span> <span style=\"background-color: hsl(182.78808116912842, 73%, 83%); padding: 2px;\">g</span> <span style=\"background-color: hsl(57.9479455947876, 62%, 72%); padding: 2px;\">Ġvar</span> <span style=\"background-color: hsl(137.56500720977783, 63%, 73%); padding: 2px;\">Ġsend</span> <span style=\"background-color: hsl(171.95903778076172, 75%, 85%); padding: 2px;\">ĠÃ</span> <span style=\"background-color: hsl(5.4647111892700195, 67%, 77%); padding: 2px;\">Ń</span> <span style=\"background-color: hsl(309.412636756897, 80%, 90%); padding: 2px;\">Ġfor</span> <span style=\"background-color: hsl(311.1970567703247, 76%, 86%); padding: 2px;\">val</span> <span style=\"background-color: hsl(3.680291175842285, 71%, 81%); padding: 2px;\">Ġtil</span> <span style=\"background-color: hsl(171.95903778076172, 75%, 85%); padding: 2px;\">ĠÃ</span> <span style=\"background-color: hsl(66.99256896972656, 64%, 74%); padding: 2px;\">ĵ</span> <span style=\"background-color: hsl(264.1895627975464, 70%, 80%); padding: 2px;\">sk</span> <span style=\"background-color: hsl(59.73240852355957, 79%, 89%); padding: 2px;\">ars</span> <span style=\"background-color: hsl(21.769537925720215, 75%, 85%); padding: 2px;\">ins</span> <span style=\"background-color: hsl(273.23418617248535, 72%, 82%); padding: 2px;\">Ġ2004</span> <span style=\"background-color: hsl(262.40514278411865, 74%, 84%); padding: 2px;\">.</span> <span style=\"background-color: hsl(327.50184059143066, 63%, 73%); padding: 2px;\">Ġ</span> "
      ],
      "text/plain": [
       "<IPython.core.display.HTML object>"
      ]
     },
     "metadata": {},
     "output_type": "display_data"
    },
    {
     "name": "stdout",
     "output_type": "stream",
     "text": [
      "Number of Tokens: 203\n",
      "Number of Characters: 399\n",
      "==================================================\n"
     ]
    }
   ],
   "source": [
    "\n",
    "# importing from huggingface transformers\n",
    "from transformers import AutoTokenizer\n",
    "from IPython.display import HTML, display\n",
    "import json\n",
    "\n",
    "\n",
    "# Display tokens with colors for each model\n",
    "model = 'openai-community/gpt2'\n",
    "\n",
    "tokz = AutoTokenizer.from_pretrained(model)\n",
    "token_colors = get_token_colors(text, tokz)\n",
    "tokens = tokz.tokenize(text)\n",
    "\n",
    "display(HTML(f\"<p><b>Model:</b> {model}</p><p><b>Tokens:</b>\"))\n",
    "display_colored_tokens(tokens, token_colors)\n",
    "\n",
    "# Calculate and display the number of tokens and characters\n",
    "num_tokens = len(tokens)\n",
    "num_chars = len(text)\n",
    "print(f\"Number of Tokens: {num_tokens}\")\n",
    "print(f\"Number of Characters: {num_chars}\")\n",
    "print(\"=\"*50)\n",
    "\n",
    "# Additional code for raw tokens\n",
    "#raw_tokens = [tokz.tokenize(text) for tokz in [AutoTokenizer.from_pretrained(model) for model in model_nm]]\n",
    "#raw_tokens_json = json.dumps(raw_tokens, indent=2)\n",
    "#print(f\"Raw Tokens: {raw_tokens_json}\")"
   ]
  }
 ],
 "metadata": {
  "kernelspec": {
   "display_name": "Python 3 (ipykernel)",
   "language": "python",
   "name": "python3"
  },
  "language_info": {
   "codemirror_mode": {
    "name": "ipython",
    "version": 3
   },
   "file_extension": ".py",
   "mimetype": "text/x-python",
   "name": "python",
   "nbconvert_exporter": "python",
   "pygments_lexer": "ipython3",
   "version": "3.9.1"
  }
 },
 "nbformat": 4,
 "nbformat_minor": 5
}
