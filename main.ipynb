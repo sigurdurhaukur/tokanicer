{
 "cells": [
  {
   "cell_type": "code",
   "execution_count": 1,
   "id": "dfe2e3e0",
   "metadata": {},
   "outputs": [],
   "source": [
    "# !pip install tiktoken"
   ]
  },
  {
   "cell_type": "code",
   "execution_count": 2,
   "id": "987a9c6a",
   "metadata": {},
   "outputs": [
    {
     "data": {
      "text/plain": [
       "108073"
      ]
     },
     "execution_count": 2,
     "metadata": {},
     "output_type": "execute_result"
    }
   ],
   "source": [
    "import os\n",
    "\n",
    "all_paths = []\n",
    "for root, dirs, files in os.walk(\"./processed_data\"):\n",
    "    for file in files:\n",
    "        if file.endswith(\".txt\"):\n",
    "             all_paths.append(os.path.join(root, file))\n",
    "\n",
    "len(all_paths)"
   ]
  },
  {
   "cell_type": "code",
   "execution_count": 3,
   "id": "c410079e",
   "metadata": {},
   "outputs": [],
   "source": [
    "import sentencepiece as spm\n",
    "import os\n",
    "\n",
    "data = \",\".join(all_paths)\n",
    "\n",
    "options = dict(\n",
    "    input=data,\n",
    "    model_prefix='tokenicer',\n",
    "    model_type='bpe',\n",
    "    vocab_size=3000,\n",
    "    normalization_rule_name='identity',\n",
    "    remove_extra_whitespaces=False,\n",
    "    input_sentence_size=2*1e6,\n",
    "    max_sentence_length=4192,\n",
    "    seed_sentencepiece_size=1e5,\n",
    "    shuffle_input_sentence=True,\n",
    "    #rare word treatment\n",
    "    character_coverage=0.9995,\n",
    "    byte_fallback=True,\n",
    "    #merge rules\n",
    "    split_digits=True,\n",
    "    split_by_unicode_script=True,\n",
    "    split_by_whitespace=True,\n",
    "    split_by_number=True,\n",
    "    max_sentencepiece_length=16,\n",
    "    add_dummy_prefix=True,\n",
    "    allow_whitespace_only_pieces=True,\n",
    "    #special tokens\n",
    "    unk_id=0, # the unk token MUST exist\n",
    "    bos_id=1,\n",
    "    eos_id=2,\n",
    "    pad_id=-1,\n",
    "    # system\n",
    "    num_threads=os.cpu_count(), # use all cores\n",
    ")\n",
    "\n",
    "spm.SentencePieceTrainer.train(**options)"
   ]
  },
  {
   "cell_type": "code",
   "execution_count": null,
   "id": "6c8393b5",
   "metadata": {},
   "outputs": [],
   "source": [
    "# Generates a dictionary mapping unique texts/tokens with their corresponding color\n",
    "def get_token_colors(tokens):\n",
    "    unique_tokens = list(set(tokens))\n",
    "    token_colors = {token: number_to_color(index) for index, token in enumerate(unique_tokens)}\n",
    "    return token_colors\n",
    "\n",
    "\n",
    "# Displays the tokens with the unique color\n",
    "def display_colored_tokens(tokens, token_colors):\n",
    "    colored_text = \"\"\n",
    "    for token in tokens:\n",
    "        color = token_colors[token]\n",
    "        colored_text += f'<span style=\"background-color: {color}; padding: 2px; color: black\">{token}</span> '\n",
    "\n",
    "    display(HTML(colored_text))\n",
    "\n",
    "# Generates a unique HSL color based on the index of the token\n",
    "def number_to_color(number):\n",
    "    golden_ratio_conjugate = 0.618033988749895\n",
    "    a = 1664525\n",
    "    c = 1013904223\n",
    "    m = 2**32\n",
    "\n",
    "    pseudorandom = (a * number + c) % m\n",
    "    hue = ((pseudorandom * golden_ratio_conjugate) % 1) * 360\n",
    "    s = 60 + (pseudorandom % 21)\n",
    "    l = 70 + (pseudorandom % 21)\n",
    "\n",
    "    return f\"hsl({hue}, {s}%, {l}%)\""
   ]
  },
  {
   "cell_type": "code",
   "execution_count": null,
   "id": "a86a9c4c",
   "metadata": {},
   "outputs": [],
   "source": [
    "text = \"Nói albinói er fyrsta kvikmynd Dags Kára Péturssonar í fullri lengd. Hún fjallar um ungan dreng að nafni Nói, sem býr í afskekktum bæ á Íslandi. Nói á í erfiðleikum í skóla og fær litla virðingu heima hjá sér. Hann kynnist ungri stelpu frá Reykjavík og ákveður að strjúka í burtu með henni. En hún er ekki á sama máli. Kvikmyndin hlaut sex Edduverðlaun 2003 og var send í forval til Óskarsins 2004. \""
   ]
  },
  {
   "cell_type": "code",
   "execution_count": null,
   "id": "d32902a2",
   "metadata": {},
   "outputs": [
    {
     "data": {
      "text/html": [
       "<p ><b>Model:</b> tokenICEr</p><p><b>Tokens:</b>"
      ],
      "text/plain": [
       "<IPython.core.display.HTML object>"
      ]
     },
     "metadata": {},
     "output_type": "display_data"
    },
    {
     "data": {
      "text/html": [
       "<span style=\"background-color: hsl(19.985074996948242, 79%, 89%); padding: 2px; color: black\">▁N</span> <span style=\"background-color: hsl(191.83270454406738, 75%, 85%); padding: 2px; color: black\">ó</span> <span style=\"background-color: hsl(256.9294023513794, 64%, 74%); padding: 2px; color: black\">i</span> <span style=\"background-color: hsl(155.65425395965576, 67%, 77%); padding: 2px; color: black\">▁al</span> <span style=\"background-color: hsl(171.95903778076172, 75%, 85%); padding: 2px; color: black\">b</span> <span style=\"background-color: hsl(54.37910556793213, 70%, 80%); padding: 2px; color: black\">in</span> <span style=\"background-color: hsl(191.83270454406738, 75%, 85%); padding: 2px; color: black\">ó</span> <span style=\"background-color: hsl(256.9294023513794, 64%, 74%); padding: 2px; color: black\">i</span> <span style=\"background-color: hsl(38.07432174682617, 62%, 72%); padding: 2px; color: black\">▁er</span> <span style=\"background-color: hsl(173.74345779418945, 71%, 81%); padding: 2px; color: black\">▁fyrsta</span> <span style=\"background-color: hsl(153.86983394622803, 71%, 81%); padding: 2px; color: black\">▁kvikmynd</span> <span style=\"background-color: hsl(164.69887733459473, 69%, 79%); padding: 2px; color: black\">▁D</span> <span style=\"background-color: hsl(175.52792072296143, 67%, 77%); padding: 2px; color: black\">ag</span> <span style=\"background-color: hsl(181.00366115570068, 77%, 87%); padding: 2px; color: black\">s</span> <span style=\"background-color: hsl(76.03719234466553, 66%, 76%); padding: 2px; color: black\">▁K</span> <span style=\"background-color: hsl(39.858741760253906, 79%, 89%); padding: 2px; color: black\">á</span> <span style=\"background-color: hsl(327.50184059143066, 63%, 73%); padding: 2px; color: black\">ra</span> <span style=\"background-color: hsl(244.31593894958496, 70%, 80%); padding: 2px; color: black\">▁P</span> <span style=\"background-color: hsl(316.67279720306396, 65%, 75%); padding: 2px; color: black\">étur</span> <span style=\"background-color: hsl(184.57250118255615, 69%, 79%); padding: 2px; color: black\">ssonar</span> <span style=\"background-color: hsl(271.4497661590576, 76%, 86%); padding: 2px; color: black\">▁í</span> <span style=\"background-color: hsl(30.81411838531494, 77%, 87%); padding: 2px; color: black\">▁full</span> <span style=\"background-color: hsl(246.1003589630127, 66%, 76%); padding: 2px; color: black\">ri</span> <span style=\"background-color: hsl(148.39405059814453, 61%, 71%); padding: 2px; color: black\">▁l</span> <span style=\"background-color: hsl(226.22669219970703, 66%, 76%); padding: 2px; color: black\">engd</span> <span style=\"background-color: hsl(135.7805871963501, 67%, 77%); padding: 2px; color: black\">.</span> <span style=\"background-color: hsl(66.99256896972656, 64%, 74%); padding: 2px; color: black\">▁Hún</span> <span style=\"background-color: hsl(126.73596382141113, 65%, 75%); padding: 2px; color: black\">▁fj</span> <span style=\"background-color: hsl(218.96653175354004, 60%, 70%); padding: 2px; color: black\">allar</span> <span style=\"background-color: hsl(157.4386739730835, 63%, 73%); padding: 2px; color: black\">▁um</span> <span style=\"background-color: hsl(72.46830940246582, 74%, 84%); padding: 2px; color: black\">▁ung</span> <span style=\"background-color: hsl(3.680291175842285, 71%, 81%); padding: 2px; color: black\">an</span> <span style=\"background-color: hsl(235.271315574646, 68%, 78%); padding: 2px; color: black\">▁dr</span> <span style=\"background-color: hsl(110.43118000030518, 78%, 88%); padding: 2px; color: black\">eng</span> <span style=\"background-color: hsl(101.38659954071045, 76%, 86%); padding: 2px; color: black\">▁að</span> <span style=\"background-color: hsl(354.6356678009033, 69%, 79%); padding: 2px; color: black\">▁n</span> <span style=\"background-color: hsl(29.029698371887207, 60%, 70%); padding: 2px; color: black\">af</span> <span style=\"background-color: hsl(291.3234329223633, 76%, 86%); padding: 2px; color: black\">ni</span> <span style=\"background-color: hsl(19.985074996948242, 79%, 89%); padding: 2px; color: black\">▁N</span> <span style=\"background-color: hsl(191.83270454406738, 75%, 85%); padding: 2px; color: black\">ó</span> <span style=\"background-color: hsl(256.9294023513794, 64%, 74%); padding: 2px; color: black\">i</span> <span style=\"background-color: hsl(200.8772850036621, 77%, 87%); padding: 2px; color: black\">,</span> <span style=\"background-color: hsl(255.14498233795166, 68%, 78%); padding: 2px; color: black\">▁sem</span> <span style=\"background-color: hsl(307.62821674346924, 63%, 73%); padding: 2px; color: black\">▁býr</span> <span style=\"background-color: hsl(271.4497661590576, 76%, 86%); padding: 2px; color: black\">▁í</span> <span style=\"background-color: hsl(208.13748836517334, 62%, 72%); padding: 2px; color: black\">▁af</span> <span style=\"background-color: hsl(238.8401985168457, 60%, 70%); padding: 2px; color: black\">sk</span> <span style=\"background-color: hsl(99.60213661193848, 80%, 90%); padding: 2px; color: black\">ekk</span> <span style=\"background-color: hsl(228.011155128479, 62%, 72%); padding: 2px; color: black\">tum</span> <span style=\"background-color: hsl(144.82521057128906, 69%, 79%); padding: 2px; color: black\">▁bæ</span> <span style=\"background-color: hsl(229.79557514190674, 79%, 89%); padding: 2px; color: black\">▁á</span> <span style=\"background-color: hsl(117.6913833618164, 63%, 73%); padding: 2px; color: black\">▁Íslandi</span> <span style=\"background-color: hsl(135.7805871963501, 67%, 77%); padding: 2px; color: black\">.</span> <span style=\"background-color: hsl(19.985074996948242, 79%, 89%); padding: 2px; color: black\">▁N</span> <span style=\"background-color: hsl(191.83270454406738, 75%, 85%); padding: 2px; color: black\">ó</span> <span style=\"background-color: hsl(256.9294023513794, 64%, 74%); padding: 2px; color: black\">i</span> <span style=\"background-color: hsl(229.79557514190674, 79%, 89%); padding: 2px; color: black\">▁á</span> <span style=\"background-color: hsl(271.4497661590576, 76%, 86%); padding: 2px; color: black\">▁í</span> <span style=\"background-color: hsl(209.92190837860107, 79%, 89%); padding: 2px; color: black\">▁erfið</span> <span style=\"background-color: hsl(65.20814895629883, 68%, 78%); padding: 2px; color: black\">leikum</span> <span style=\"background-color: hsl(271.4497661590576, 76%, 86%); padding: 2px; color: black\">▁í</span> <span style=\"background-color: hsl(202.66174793243408, 73%, 83%); padding: 2px; color: black\">▁skóla</span> <span style=\"background-color: hsl(128.5204267501831, 61%, 71%); padding: 2px; color: black\">▁og</span> <span style=\"background-color: hsl(108.64675998687744, 61%, 71%); padding: 2px; color: black\">▁fær</span> <span style=\"background-color: hsl(146.6096305847168, 65%, 75%); padding: 2px; color: black\">▁lit</span> <span style=\"background-color: hsl(211.7063283920288, 75%, 85%); padding: 2px; color: black\">la</span> <span style=\"background-color: hsl(280.49434661865234, 78%, 88%); padding: 2px; color: black\">▁vir</span> <span style=\"background-color: hsl(130.30484676361084, 78%, 88%); padding: 2px; color: black\">ð</span> <span style=\"background-color: hsl(237.05573558807373, 64%, 74%); padding: 2px; color: black\">ingu</span> <span style=\"background-color: hsl(193.61712455749512, 71%, 81%); padding: 2px; color: black\">▁heim</span> <span style=\"background-color: hsl(190.0482416152954, 79%, 89%); padding: 2px; color: black\">a</span> <span style=\"background-color: hsl(12.72491455078125, 73%, 83%); padding: 2px; color: black\">▁hjá</span> <span style=\"background-color: hsl(83.29735279083252, 72%, 82%); padding: 2px; color: black\">▁sér</span> <span style=\"background-color: hsl(135.7805871963501, 67%, 77%); padding: 2px; color: black\">.</span> <span style=\"background-color: hsl(247.88477897644043, 62%, 72%); padding: 2px; color: black\">▁H</span> <span style=\"background-color: hsl(282.2788095474243, 74%, 84%); padding: 2px; color: black\">ann</span> <span style=\"background-color: hsl(352.8512477874756, 73%, 83%); padding: 2px; color: black\">▁kyn</span> <span style=\"background-color: hsl(291.3234329223633, 76%, 86%); padding: 2px; color: black\">ni</span> <span style=\"background-color: hsl(273.23418617248535, 72%, 82%); padding: 2px; color: black\">st</span> <span style=\"background-color: hsl(72.46830940246582, 74%, 84%); padding: 2px; color: black\">▁ung</span> <span style=\"background-color: hsl(246.1003589630127, 66%, 76%); padding: 2px; color: black\">ri</span> <span style=\"background-color: hsl(199.09286499023438, 60%, 70%); padding: 2px; color: black\">▁st</span> <span style=\"background-color: hsl(343.8066244125366, 71%, 81%); padding: 2px; color: black\">el</span> <span style=\"background-color: hsl(121.26022338867188, 76%, 86%); padding: 2px; color: black\">p</span> <span style=\"background-color: hsl(264.1895627975464, 70%, 80%); padding: 2px; color: black\">u</span> <span style=\"background-color: hsl(85.08181571960449, 68%, 78%); padding: 2px; color: black\">▁frá</span> <span style=\"background-color: hsl(220.75095176696777, 77%, 87%); padding: 2px; color: black\">▁Reykjavík</span> <span style=\"background-color: hsl(128.5204267501831, 61%, 71%); padding: 2px; color: black\">▁og</span> <span style=\"background-color: hsl(334.7620439529419, 69%, 79%); padding: 2px; color: black\">▁ákveð</span> <span style=\"background-color: hsl(21.769537925720215, 75%, 85%); padding: 2px; color: black\">ur</span> <span style=\"background-color: hsl(101.38659954071045, 76%, 86%); padding: 2px; color: black\">▁að</span> <span style=\"background-color: hsl(112.21564292907715, 74%, 84%); padding: 2px; color: black\">▁str</span> <span style=\"background-color: hsl(298.5835933685303, 61%, 71%); padding: 2px; color: black\">júka</span> <span style=\"background-color: hsl(271.4497661590576, 76%, 86%); padding: 2px; color: black\">▁í</span> <span style=\"background-color: hsl(57.9479455947876, 62%, 72%); padding: 2px; color: black\">▁b</span> <span style=\"background-color: hsl(21.769537925720215, 75%, 85%); padding: 2px; color: black\">ur</span> <span style=\"background-color: hsl(10.940494537353516, 77%, 87%); padding: 2px; color: black\">tu</span> <span style=\"background-color: hsl(336.54646396636963, 65%, 75%); padding: 2px; color: black\">▁með</span> <span style=\"background-color: hsl(48.90336513519287, 60%, 70%); padding: 2px; color: black\">▁henni</span> <span style=\"background-color: hsl(135.7805871963501, 67%, 77%); padding: 2px; color: black\">.</span> <span style=\"background-color: hsl(182.78808116912842, 73%, 83%); padding: 2px; color: black\">▁En</span> <span style=\"background-color: hsl(74.2527723312378, 70%, 80%); padding: 2px; color: black\">▁hún</span> <span style=\"background-color: hsl(38.07432174682617, 62%, 72%); padding: 2px; color: black\">▁er</span> <span style=\"background-color: hsl(47.1189022064209, 64%, 74%); padding: 2px; color: black\">▁ekki</span> <span style=\"background-color: hsl(229.79557514190674, 79%, 89%); padding: 2px; color: black\">▁á</span> <span style=\"background-color: hsl(345.5910873413086, 67%, 77%); padding: 2px; color: black\">▁sama</span> <span style=\"background-color: hsl(217.1821117401123, 64%, 74%); padding: 2px; color: black\">▁máli</span> <span style=\"background-color: hsl(135.7805871963501, 67%, 77%); padding: 2px; color: black\">.</span> <span style=\"background-color: hsl(94.12639617919922, 70%, 80%); padding: 2px; color: black\">▁Kvikmynd</span> <span style=\"background-color: hsl(54.37910556793213, 70%, 80%); padding: 2px; color: black\">in</span> <span style=\"background-color: hsl(103.17101955413818, 72%, 82%); padding: 2px; color: black\">▁hlaut</span> <span style=\"background-color: hsl(318.45726013183594, 61%, 71%); padding: 2px; color: black\">▁s</span> <span style=\"background-color: hsl(166.48329734802246, 65%, 75%); padding: 2px; color: black\">ex</span> <span style=\"background-color: hsl(90.55755615234375, 78%, 88%); padding: 2px; color: black\">▁E</span> <span style=\"background-color: hsl(325.71742057800293, 67%, 77%); padding: 2px; color: black\">dd</span> <span style=\"background-color: hsl(264.1895627975464, 70%, 80%); padding: 2px; color: black\">u</span> <span style=\"background-color: hsl(309.412636756897, 80%, 90%); padding: 2px; color: black\">verðlaun</span> <span style=\"background-color: hsl(139.3494701385498, 80%, 90%); padding: 2px; color: black\">▁</span> <span style=\"background-color: hsl(253.3605194091797, 72%, 82%); padding: 2px; color: black\">2</span> <span style=\"background-color: hsl(56.16352558135986, 66%, 76%); padding: 2px; color: black\">0</span> <span style=\"background-color: hsl(56.16352558135986, 66%, 76%); padding: 2px; color: black\">0</span> <span style=\"background-color: hsl(119.47580337524414, 80%, 90%); padding: 2px; color: black\">3</span> <span style=\"background-color: hsl(128.5204267501831, 61%, 71%); padding: 2px; color: black\">▁og</span> <span style=\"background-color: hsl(63.423686027526855, 72%, 82%); padding: 2px; color: black\">▁var</span> <span style=\"background-color: hsl(81.51293277740479, 76%, 86%); padding: 2px; color: black\">▁send</span> <span style=\"background-color: hsl(271.4497661590576, 76%, 86%); padding: 2px; color: black\">▁í</span> <span style=\"background-color: hsl(92.34197616577148, 74%, 84%); padding: 2px; color: black\">▁for</span> <span style=\"background-color: hsl(262.40514278411865, 74%, 84%); padding: 2px; color: black\">val</span> <span style=\"background-color: hsl(1.8958711624145508, 75%, 85%); padding: 2px; color: black\">▁til</span> <span style=\"background-color: hsl(289.5389699935913, 80%, 90%); padding: 2px; color: black\">▁Ósk</span> <span style=\"background-color: hsl(300.368013381958, 78%, 88%); padding: 2px; color: black\">ars</span> <span style=\"background-color: hsl(162.91441440582275, 73%, 83%); padding: 2px; color: black\">ins</span> <span style=\"background-color: hsl(139.3494701385498, 80%, 90%); padding: 2px; color: black\">▁</span> <span style=\"background-color: hsl(253.3605194091797, 72%, 82%); padding: 2px; color: black\">2</span> <span style=\"background-color: hsl(56.16352558135986, 66%, 76%); padding: 2px; color: black\">0</span> <span style=\"background-color: hsl(56.16352558135986, 66%, 76%); padding: 2px; color: black\">0</span> <span style=\"background-color: hsl(137.56500720977783, 63%, 73%); padding: 2px; color: black\">4</span> <span style=\"background-color: hsl(135.7805871963501, 67%, 77%); padding: 2px; color: black\">.</span> <span style=\"background-color: hsl(139.3494701385498, 80%, 90%); padding: 2px; color: black\">▁</span> "
      ],
      "text/plain": [
       "<IPython.core.display.HTML object>"
      ]
     },
     "metadata": {},
     "output_type": "display_data"
    },
    {
     "name": "stdout",
     "output_type": "stream",
     "text": [
      "Number of Tokens: 139\n",
      "Number of Characters: 399\n",
      "==================================================\n"
     ]
    }
   ],
   "source": [
    "from IPython.display import HTML, display\n",
    "\n",
    "sp = spm.SentencePieceProcessor()\n",
    "sp.load('tokenicer.model')\n",
    "\n",
    "tokens = sp.encode_as_pieces(text)\n",
    "token_colors = get_token_colors(tokens)\n",
    "\n",
    "display(HTML(f\"<p ><b>Model:</b> tokenICEr</p><p><b>Tokens:</b>\"))\n",
    "display_colored_tokens(tokens, token_colors)\n",
    "\n",
    "# Calculate and display the number of tokens and characters\n",
    "num_tokens = len(tokens)\n",
    "num_chars = len(text)\n",
    "print(f\"Number of Tokens: {num_tokens}\")\n",
    "print(f\"Number of Characters: {num_chars}\")\n",
    "print(\"=\"*50)"
   ]
  },
  {
   "cell_type": "code",
   "execution_count": null,
   "id": "fdef18be",
   "metadata": {},
   "outputs": [
    {
     "data": {
      "text/html": [
       "<p ><b>Model:</b> gpt-2</p><p><b>Tokens:</b>"
      ],
      "text/plain": [
       "<IPython.core.display.HTML object>"
      ]
     },
     "metadata": {},
     "output_type": "display_data"
    },
    {
     "data": {
      "text/html": [
       "<span style=\"background-color: hsl(320.2416801452637, 78%, 88%); padding: 2px; color: black\">N</span> <span style=\"background-color: hsl(273.23418617248535, 72%, 82%); padding: 2px; color: black\">ó</span> <span style=\"background-color: hsl(14.509334564208984, 69%, 79%); padding: 2px; color: black\">i</span> <span style=\"background-color: hsl(126.73596382141113, 65%, 75%); padding: 2px; color: black\"> al</span> <span style=\"background-color: hsl(56.16352558135986, 66%, 76%); padding: 2px; color: black\">bin</span> <span style=\"background-color: hsl(273.23418617248535, 72%, 82%); padding: 2px; color: black\">ó</span> <span style=\"background-color: hsl(14.509334564208984, 69%, 79%); padding: 2px; color: black\">i</span> <span style=\"background-color: hsl(90.55755615234375, 78%, 88%); padding: 2px; color: black\"> er</span> <span style=\"background-color: hsl(139.3494701385498, 80%, 90%); padding: 2px; color: black\"> f</span> <span style=\"background-color: hsl(144.82521057128906, 69%, 79%); padding: 2px; color: black\">yr</span> <span style=\"background-color: hsl(182.78808116912842, 73%, 83%); padding: 2px; color: black\">sta</span> <span style=\"background-color: hsl(128.5204267501831, 61%, 71%); padding: 2px; color: black\"> k</span> <span style=\"background-color: hsl(155.65425395965576, 67%, 77%); padding: 2px; color: black\">vik</span> <span style=\"background-color: hsl(271.4497661590576, 76%, 86%); padding: 2px; color: black\">my</span> <span style=\"background-color: hsl(347.3755073547363, 63%, 73%); padding: 2px; color: black\">nd</span> <span style=\"background-color: hsl(193.61712455749512, 71%, 81%); padding: 2px; color: black\"> D</span> <span style=\"background-color: hsl(217.1821117401123, 64%, 74%); padding: 2px; color: black\">ags</span> <span style=\"background-color: hsl(264.1895627975464, 70%, 80%); padding: 2px; color: black\"> K</span> <span style=\"background-color: hsl(166.48329734802246, 65%, 75%); padding: 2px; color: black\">á</span> <span style=\"background-color: hsl(66.99256896972656, 64%, 74%); padding: 2px; color: black\">ra</span> <span style=\"background-color: hsl(293.107852935791, 72%, 82%); padding: 2px; color: black\"> P</span> <span style=\"background-color: hsl(85.08181571960449, 68%, 78%); padding: 2px; color: black\">ét</span> <span style=\"background-color: hsl(157.4386739730835, 63%, 73%); padding: 2px; color: black\">ur</span> <span style=\"background-color: hsl(148.39405059814453, 61%, 71%); padding: 2px; color: black\">sson</span> <span style=\"background-color: hsl(191.83270454406738, 75%, 85%); padding: 2px; color: black\">ar</span> <span style=\"background-color: hsl(284.06322956085205, 70%, 80%); padding: 2px; color: black\"> �</span> <span style=\"background-color: hsl(175.52792072296143, 67%, 77%); padding: 2px; color: black\">�</span> <span style=\"background-color: hsl(29.029698371887207, 60%, 70%); padding: 2px; color: black\"> full</span> <span style=\"background-color: hsl(318.45726013183594, 61%, 71%); padding: 2px; color: black\">ri</span> <span style=\"background-color: hsl(238.8401985168457, 60%, 70%); padding: 2px; color: black\"> leng</span> <span style=\"background-color: hsl(83.29735279083252, 72%, 82%); padding: 2px; color: black\">d</span> <span style=\"background-color: hsl(171.95903778076172, 75%, 85%); padding: 2px; color: black\">.</span> <span style=\"background-color: hsl(316.67279720306396, 65%, 75%); padding: 2px; color: black\"> H</span> <span style=\"background-color: hsl(218.96653175354004, 60%, 70%); padding: 2px; color: black\">ú</span> <span style=\"background-color: hsl(265.97402572631836, 66%, 76%); padding: 2px; color: black\">n</span> <span style=\"background-color: hsl(139.3494701385498, 80%, 90%); padding: 2px; color: black\"> f</span> <span style=\"background-color: hsl(121.26022338867188, 76%, 86%); padding: 2px; color: black\">j</span> <span style=\"background-color: hsl(23.55395793914795, 71%, 81%); padding: 2px; color: black\">all</span> <span style=\"background-color: hsl(191.83270454406738, 75%, 85%); padding: 2px; color: black\">ar</span> <span style=\"background-color: hsl(329.28630352020264, 80%, 90%); padding: 2px; color: black\"> um</span> <span style=\"background-color: hsl(209.92190837860107, 79%, 89%); padding: 2px; color: black\"> un</span> <span style=\"background-color: hsl(298.5835933685303, 61%, 71%); padding: 2px; color: black\">gan</span> <span style=\"background-color: hsl(103.17101955413818, 72%, 82%); padding: 2px; color: black\"> d</span> <span style=\"background-color: hsl(146.6096305847168, 65%, 75%); padding: 2px; color: black\">re</span> <span style=\"background-color: hsl(356.4201307296753, 65%, 75%); padding: 2px; color: black\">ng</span> <span style=\"background-color: hsl(255.14498233795166, 68%, 78%); padding: 2px; color: black\"> a</span> <span style=\"background-color: hsl(247.88477897644043, 62%, 72%); padding: 2px; color: black\">ð</span> <span style=\"background-color: hsl(101.38659954071045, 76%, 86%); padding: 2px; color: black\"> n</span> <span style=\"background-color: hsl(164.69887733459473, 69%, 79%); padding: 2px; color: black\">af</span> <span style=\"background-color: hsl(21.769537925720215, 75%, 85%); padding: 2px; color: black\">ni</span> <span style=\"background-color: hsl(282.2788095474243, 74%, 84%); padding: 2px; color: black\"> N</span> <span style=\"background-color: hsl(273.23418617248535, 72%, 82%); padding: 2px; color: black\">ó</span> <span style=\"background-color: hsl(14.509334564208984, 69%, 79%); padding: 2px; color: black\">i</span> <span style=\"background-color: hsl(291.3234329223633, 76%, 86%); padding: 2px; color: black\">,</span> <span style=\"background-color: hsl(338.33088397979736, 61%, 71%); padding: 2px; color: black\"> sem</span> <span style=\"background-color: hsl(173.74345779418945, 71%, 81%); padding: 2px; color: black\"> b</span> <span style=\"background-color: hsl(175.52792072296143, 67%, 77%); padding: 2px; color: black\">�</span> <span style=\"background-color: hsl(175.52792072296143, 67%, 77%); padding: 2px; color: black\">�</span> <span style=\"background-color: hsl(30.81411838531494, 77%, 87%); padding: 2px; color: black\">r</span> <span style=\"background-color: hsl(284.06322956085205, 70%, 80%); padding: 2px; color: black\"> �</span> <span style=\"background-color: hsl(175.52792072296143, 67%, 77%); padding: 2px; color: black\">�</span> <span style=\"background-color: hsl(354.6356678009033, 69%, 79%); padding: 2px; color: black\"> af</span> <span style=\"background-color: hsl(280.49434661865234, 78%, 88%); padding: 2px; color: black\">s</span> <span style=\"background-color: hsl(334.7620439529419, 69%, 79%); padding: 2px; color: black\">ke</span> <span style=\"background-color: hsl(208.13748836517334, 62%, 72%); padding: 2px; color: black\">k</span> <span style=\"background-color: hsl(181.00366115570068, 77%, 87%); padding: 2px; color: black\">kt</span> <span style=\"background-color: hsl(153.86983394622803, 71%, 81%); padding: 2px; color: black\">um</span> <span style=\"background-color: hsl(173.74345779418945, 71%, 81%); padding: 2px; color: black\"> b</span> <span style=\"background-color: hsl(130.30484676361084, 78%, 88%); padding: 2px; color: black\">æ</span> <span style=\"background-color: hsl(284.06322956085205, 70%, 80%); padding: 2px; color: black\"> �</span> <span style=\"background-color: hsl(175.52792072296143, 67%, 77%); padding: 2px; color: black\">�</span> <span style=\"background-color: hsl(284.06322956085205, 70%, 80%); padding: 2px; color: black\"> �</span> <span style=\"background-color: hsl(175.52792072296143, 67%, 77%); padding: 2px; color: black\">�</span> <span style=\"background-color: hsl(280.49434661865234, 78%, 88%); padding: 2px; color: black\">s</span> <span style=\"background-color: hsl(38.07432174682617, 62%, 72%); padding: 2px; color: black\">land</span> <span style=\"background-color: hsl(14.509334564208984, 69%, 79%); padding: 2px; color: black\">i</span> <span style=\"background-color: hsl(171.95903778076172, 75%, 85%); padding: 2px; color: black\">.</span> <span style=\"background-color: hsl(282.2788095474243, 74%, 84%); padding: 2px; color: black\"> N</span> <span style=\"background-color: hsl(273.23418617248535, 72%, 82%); padding: 2px; color: black\">ó</span> <span style=\"background-color: hsl(14.509334564208984, 69%, 79%); padding: 2px; color: black\">i</span> <span style=\"background-color: hsl(284.06322956085205, 70%, 80%); padding: 2px; color: black\"> �</span> <span style=\"background-color: hsl(175.52792072296143, 67%, 77%); padding: 2px; color: black\">�</span> <span style=\"background-color: hsl(284.06322956085205, 70%, 80%); padding: 2px; color: black\"> �</span> <span style=\"background-color: hsl(175.52792072296143, 67%, 77%); padding: 2px; color: black\">�</span> <span style=\"background-color: hsl(90.55755615234375, 78%, 88%); padding: 2px; color: black\"> er</span> <span style=\"background-color: hsl(202.66174793243408, 73%, 83%); padding: 2px; color: black\">fi</span> <span style=\"background-color: hsl(247.88477897644043, 62%, 72%); padding: 2px; color: black\">ð</span> <span style=\"background-color: hsl(352.8512477874756, 73%, 83%); padding: 2px; color: black\">le</span> <span style=\"background-color: hsl(19.985074996948242, 79%, 89%); padding: 2px; color: black\">ik</span> <span style=\"background-color: hsl(153.86983394622803, 71%, 81%); padding: 2px; color: black\">um</span> <span style=\"background-color: hsl(284.06322956085205, 70%, 80%); padding: 2px; color: black\"> �</span> <span style=\"background-color: hsl(175.52792072296143, 67%, 77%); padding: 2px; color: black\">�</span> <span style=\"background-color: hsl(74.2527723312378, 70%, 80%); padding: 2px; color: black\"> sk</span> <span style=\"background-color: hsl(273.23418617248535, 72%, 82%); padding: 2px; color: black\">ó</span> <span style=\"background-color: hsl(302.15247631073, 74%, 84%); padding: 2px; color: black\">la</span> <span style=\"background-color: hsl(108.64675998687744, 61%, 71%); padding: 2px; color: black\"> o</span> <span style=\"background-color: hsl(3.680291175842285, 71%, 81%); padding: 2px; color: black\">g</span> <span style=\"background-color: hsl(139.3494701385498, 80%, 90%); padding: 2px; color: black\"> f</span> <span style=\"background-color: hsl(130.30484676361084, 78%, 88%); padding: 2px; color: black\">æ</span> <span style=\"background-color: hsl(30.81411838531494, 77%, 87%); padding: 2px; color: black\">r</span> <span style=\"background-color: hsl(135.7805871963501, 67%, 77%); padding: 2px; color: black\"> lit</span> <span style=\"background-color: hsl(302.15247631073, 74%, 84%); padding: 2px; color: black\">la</span> <span style=\"background-color: hsl(190.0482416152954, 79%, 89%); padding: 2px; color: black\"> vir</span> <span style=\"background-color: hsl(247.88477897644043, 62%, 72%); padding: 2px; color: black\">ð</span> <span style=\"background-color: hsl(309.412636756897, 80%, 90%); padding: 2px; color: black\">ingu</span> <span style=\"background-color: hsl(57.9479455947876, 62%, 72%); padding: 2px; color: black\"> he</span> <span style=\"background-color: hsl(256.9294023513794, 64%, 74%); padding: 2px; color: black\">ima</span> <span style=\"background-color: hsl(246.1003589630127, 66%, 76%); padding: 2px; color: black\"> h</span> <span style=\"background-color: hsl(121.26022338867188, 76%, 86%); padding: 2px; color: black\">j</span> <span style=\"background-color: hsl(166.48329734802246, 65%, 75%); padding: 2px; color: black\">á</span> <span style=\"background-color: hsl(220.75095176696777, 77%, 87%); padding: 2px; color: black\"> s</span> <span style=\"background-color: hsl(110.43118000030518, 78%, 88%); padding: 2px; color: black\">ér</span> <span style=\"background-color: hsl(171.95903778076172, 75%, 85%); padding: 2px; color: black\">.</span> <span style=\"background-color: hsl(137.56500720977783, 63%, 73%); padding: 2px; color: black\"> Hann</span> <span style=\"background-color: hsl(128.5204267501831, 61%, 71%); padding: 2px; color: black\"> k</span> <span style=\"background-color: hsl(72.46830940246582, 74%, 84%); padding: 2px; color: black\">yn</span> <span style=\"background-color: hsl(265.97402572631836, 66%, 76%); padding: 2px; color: black\">n</span> <span style=\"background-color: hsl(228.011155128479, 62%, 72%); padding: 2px; color: black\">ist</span> <span style=\"background-color: hsl(209.92190837860107, 79%, 89%); padding: 2px; color: black\"> un</span> <span style=\"background-color: hsl(3.680291175842285, 71%, 81%); padding: 2px; color: black\">g</span> <span style=\"background-color: hsl(318.45726013183594, 61%, 71%); padding: 2px; color: black\">ri</span> <span style=\"background-color: hsl(1.8958711624145508, 75%, 85%); padding: 2px; color: black\"> st</span> <span style=\"background-color: hsl(47.1189022064209, 64%, 74%); padding: 2px; color: black\">el</span> <span style=\"background-color: hsl(54.37910556793213, 70%, 80%); padding: 2px; color: black\">pu</span> <span style=\"background-color: hsl(162.91441440582275, 73%, 83%); padding: 2px; color: black\"> fr</span> <span style=\"background-color: hsl(166.48329734802246, 65%, 75%); padding: 2px; color: black\">á</span> <span style=\"background-color: hsl(184.57250118255615, 69%, 79%); padding: 2px; color: black\"> Rey</span> <span style=\"background-color: hsl(211.7063283920288, 75%, 85%); padding: 2px; color: black\">kj</span> <span style=\"background-color: hsl(92.34197616577148, 74%, 84%); padding: 2px; color: black\">av</span> <span style=\"background-color: hsl(300.368013381958, 78%, 88%); padding: 2px; color: black\">í</span> <span style=\"background-color: hsl(208.13748836517334, 62%, 72%); padding: 2px; color: black\">k</span> <span style=\"background-color: hsl(108.64675998687744, 61%, 71%); padding: 2px; color: black\"> o</span> <span style=\"background-color: hsl(3.680291175842285, 71%, 81%); padding: 2px; color: black\">g</span> <span style=\"background-color: hsl(284.06322956085205, 70%, 80%); padding: 2px; color: black\"> �</span> <span style=\"background-color: hsl(175.52792072296143, 67%, 77%); padding: 2px; color: black\">�</span> <span style=\"background-color: hsl(208.13748836517334, 62%, 72%); padding: 2px; color: black\">k</span> <span style=\"background-color: hsl(237.05573558807373, 64%, 74%); padding: 2px; color: black\">ve</span> <span style=\"background-color: hsl(247.88477897644043, 62%, 72%); padding: 2px; color: black\">ð</span> <span style=\"background-color: hsl(157.4386739730835, 63%, 73%); padding: 2px; color: black\">ur</span> <span style=\"background-color: hsl(255.14498233795166, 68%, 78%); padding: 2px; color: black\"> a</span> <span style=\"background-color: hsl(247.88477897644043, 62%, 72%); padding: 2px; color: black\">ð</span> <span style=\"background-color: hsl(229.79557514190674, 79%, 89%); padding: 2px; color: black\"> str</span> <span style=\"background-color: hsl(121.26022338867188, 76%, 86%); padding: 2px; color: black\">j</span> <span style=\"background-color: hsl(218.96653175354004, 60%, 70%); padding: 2px; color: black\">ú</span> <span style=\"background-color: hsl(275.0186061859131, 68%, 78%); padding: 2px; color: black\">ka</span> <span style=\"background-color: hsl(284.06322956085205, 70%, 80%); padding: 2px; color: black\"> �</span> <span style=\"background-color: hsl(175.52792072296143, 67%, 77%); padding: 2px; color: black\">�</span> <span style=\"background-color: hsl(173.74345779418945, 71%, 81%); padding: 2px; color: black\"> b</span> <span style=\"background-color: hsl(10.940494537353516, 77%, 87%); padding: 2px; color: black\">urt</span> <span style=\"background-color: hsl(336.54646396636963, 65%, 75%); padding: 2px; color: black\">u</span> <span style=\"background-color: hsl(325.71742057800293, 67%, 77%); padding: 2px; color: black\"> me</span> <span style=\"background-color: hsl(247.88477897644043, 62%, 72%); padding: 2px; color: black\">ð</span> <span style=\"background-color: hsl(65.20814895629883, 68%, 78%); padding: 2px; color: black\"> hen</span> <span style=\"background-color: hsl(21.769537925720215, 75%, 85%); padding: 2px; color: black\">ni</span> <span style=\"background-color: hsl(171.95903778076172, 75%, 85%); padding: 2px; color: black\">.</span> <span style=\"background-color: hsl(81.51293277740479, 76%, 86%); padding: 2px; color: black\"> En</span> <span style=\"background-color: hsl(246.1003589630127, 66%, 76%); padding: 2px; color: black\"> h</span> <span style=\"background-color: hsl(218.96653175354004, 60%, 70%); padding: 2px; color: black\">ú</span> <span style=\"background-color: hsl(265.97402572631836, 66%, 76%); padding: 2px; color: black\">n</span> <span style=\"background-color: hsl(90.55755615234375, 78%, 88%); padding: 2px; color: black\"> er</span> <span style=\"background-color: hsl(199.09286499023438, 60%, 70%); padding: 2px; color: black\"> e</span> <span style=\"background-color: hsl(208.13748836517334, 62%, 72%); padding: 2px; color: black\">k</span> <span style=\"background-color: hsl(311.1970567703247, 76%, 86%); padding: 2px; color: black\">ki</span> <span style=\"background-color: hsl(284.06322956085205, 70%, 80%); padding: 2px; color: black\"> �</span> <span style=\"background-color: hsl(175.52792072296143, 67%, 77%); padding: 2px; color: black\">�</span> <span style=\"background-color: hsl(220.75095176696777, 77%, 87%); padding: 2px; color: black\"> s</span> <span style=\"background-color: hsl(327.50184059143066, 63%, 73%); padding: 2px; color: black\">ama</span> <span style=\"background-color: hsl(345.5910873413086, 67%, 77%); padding: 2px; color: black\"> m</span> <span style=\"background-color: hsl(166.48329734802246, 65%, 75%); padding: 2px; color: black\">á</span> <span style=\"background-color: hsl(200.8772850036621, 77%, 87%); padding: 2px; color: black\">li</span> <span style=\"background-color: hsl(171.95903778076172, 75%, 85%); padding: 2px; color: black\">.</span> <span style=\"background-color: hsl(264.1895627975464, 70%, 80%); padding: 2px; color: black\"> K</span> <span style=\"background-color: hsl(155.65425395965576, 67%, 77%); padding: 2px; color: black\">vik</span> <span style=\"background-color: hsl(271.4497661590576, 76%, 86%); padding: 2px; color: black\">my</span> <span style=\"background-color: hsl(347.3755073547363, 63%, 73%); padding: 2px; color: black\">nd</span> <span style=\"background-color: hsl(63.423686027526855, 72%, 82%); padding: 2px; color: black\">in</span> <span style=\"background-color: hsl(246.1003589630127, 66%, 76%); padding: 2px; color: black\"> h</span> <span style=\"background-color: hsl(76.03719234466553, 66%, 76%); padding: 2px; color: black\">l</span> <span style=\"background-color: hsl(226.22669219970703, 66%, 76%); padding: 2px; color: black\">aut</span> <span style=\"background-color: hsl(94.12639617919922, 70%, 80%); padding: 2px; color: black\"> sex</span> <span style=\"background-color: hsl(235.271315574646, 68%, 78%); padding: 2px; color: black\"> Ed</span> <span style=\"background-color: hsl(307.62821674346924, 63%, 73%); padding: 2px; color: black\">du</span> <span style=\"background-color: hsl(262.40514278411865, 74%, 84%); padding: 2px; color: black\">ver</span> <span style=\"background-color: hsl(247.88477897644043, 62%, 72%); padding: 2px; color: black\">ð</span> <span style=\"background-color: hsl(112.21564292907715, 74%, 84%); padding: 2px; color: black\">laun</span> <span style=\"background-color: hsl(48.90336513519287, 60%, 70%); padding: 2px; color: black\"> 2003</span> <span style=\"background-color: hsl(108.64675998687744, 61%, 71%); padding: 2px; color: black\"> o</span> <span style=\"background-color: hsl(3.680291175842285, 71%, 81%); padding: 2px; color: black\">g</span> <span style=\"background-color: hsl(117.6913833618164, 63%, 73%); padding: 2px; color: black\"> var</span> <span style=\"background-color: hsl(12.72491455078125, 73%, 83%); padding: 2px; color: black\"> send</span> <span style=\"background-color: hsl(284.06322956085205, 70%, 80%); padding: 2px; color: black\"> �</span> <span style=\"background-color: hsl(175.52792072296143, 67%, 77%); padding: 2px; color: black\">�</span> <span style=\"background-color: hsl(119.47580337524414, 80%, 90%); padding: 2px; color: black\"> for</span> <span style=\"background-color: hsl(343.8066244125366, 71%, 81%); padding: 2px; color: black\">val</span> <span style=\"background-color: hsl(244.31593894958496, 70%, 80%); padding: 2px; color: black\"> til</span> <span style=\"background-color: hsl(284.06322956085205, 70%, 80%); padding: 2px; color: black\"> �</span> <span style=\"background-color: hsl(175.52792072296143, 67%, 77%); padding: 2px; color: black\">�</span> <span style=\"background-color: hsl(5.4647111892700195, 67%, 77%); padding: 2px; color: black\">sk</span> <span style=\"background-color: hsl(39.858741760253906, 79%, 89%); padding: 2px; color: black\">ars</span> <span style=\"background-color: hsl(253.3605194091797, 72%, 82%); padding: 2px; color: black\">ins</span> <span style=\"background-color: hsl(289.5389699935913, 80%, 90%); padding: 2px; color: black\"> 2004</span> <span style=\"background-color: hsl(171.95903778076172, 75%, 85%); padding: 2px; color: black\">.</span> <span style=\"background-color: hsl(99.60213661193848, 80%, 90%); padding: 2px; color: black\"> </span> "
      ],
      "text/plain": [
       "<IPython.core.display.HTML object>"
      ]
     },
     "metadata": {},
     "output_type": "display_data"
    },
    {
     "name": "stdout",
     "output_type": "stream",
     "text": [
      "Number of Tokens: 203\n",
      "Number of Characters: 399\n",
      "==================================================\n"
     ]
    }
   ],
   "source": [
    "from IPython.display import HTML, display\n",
    "import tiktoken\n",
    "\n",
    "model = \"gpt-2\"\n",
    "\n",
    "enc = tiktoken.encoding_for_model(\"gpt-2\")  # GPT-4 tokenizer\n",
    "tokens = [\n",
    "    enc.decode([i]) for i in enc.encode(text)\n",
    "]  # tokanize the text, then convert individual tokens back to text\n",
    "token_colors = get_token_colors(tokens)\n",
    "\n",
    "display(HTML(f\"<p ><b>Model:</b> {model}</p><p><b>Tokens:</b>\"))\n",
    "display_colored_tokens(tokens, token_colors)\n",
    "\n",
    "# Calculate and display the number of tokens and characters\n",
    "num_tokens = len(tokens)\n",
    "num_chars = len(text)\n",
    "print(f\"Number of Tokens: {num_tokens}\")\n",
    "print(f\"Number of Characters: {num_chars}\")\n",
    "print(\"=\" * 50)\n",
    "\n",
    "# Additional code for raw tokens\n",
    "# raw_tokens = [tokz.tokenize(text) for tokz in [AutoTokenizer.from_pretrained(model) for model in model_nm]]\n",
    "# raw_tokens_json = json.dumps(raw_tokens, indent=2)\n",
    "# print(f\"Raw Tokens: {raw_tokens_json}\")"
   ]
  },
  {
   "cell_type": "code",
   "execution_count": null,
   "id": "3fad9e4d",
   "metadata": {},
   "outputs": [
    {
     "data": {
      "text/html": [
       "<p ><b>Model:</b> gpt4</p><p><b>Tokens:</b>"
      ],
      "text/plain": [
       "<IPython.core.display.HTML object>"
      ]
     },
     "metadata": {},
     "output_type": "display_data"
    },
    {
     "data": {
      "text/html": [
       "<span style=\"background-color: hsl(338.33088397979736, 61%, 71%); padding: 2px; color: black\">N</span> <span style=\"background-color: hsl(318.45726013183594, 61%, 71%); padding: 2px; color: black\">ó</span> <span style=\"background-color: hsl(59.73240852355957, 79%, 89%); padding: 2px; color: black\">i</span> <span style=\"background-color: hsl(117.6913833618164, 63%, 73%); padding: 2px; color: black\"> al</span> <span style=\"background-color: hsl(56.16352558135986, 66%, 76%); padding: 2px; color: black\">bin</span> <span style=\"background-color: hsl(318.45726013183594, 61%, 71%); padding: 2px; color: black\">ó</span> <span style=\"background-color: hsl(59.73240852355957, 79%, 89%); padding: 2px; color: black\">i</span> <span style=\"background-color: hsl(90.55755615234375, 78%, 88%); padding: 2px; color: black\"> er</span> <span style=\"background-color: hsl(130.30484676361084, 78%, 88%); padding: 2px; color: black\"> f</span> <span style=\"background-color: hsl(135.7805871963501, 67%, 77%); padding: 2px; color: black\">yr</span> <span style=\"background-color: hsl(191.83270454406738, 75%, 85%); padding: 2px; color: black\">sta</span> <span style=\"background-color: hsl(101.38659954071045, 76%, 86%); padding: 2px; color: black\"> kv</span> <span style=\"background-color: hsl(10.940494537353516, 77%, 87%); padding: 2px; color: black\">ik</span> <span style=\"background-color: hsl(280.49434661865234, 78%, 88%); padding: 2px; color: black\">my</span> <span style=\"background-color: hsl(32.598581314086914, 73%, 83%); padding: 2px; color: black\">nd</span> <span style=\"background-color: hsl(193.61712455749512, 71%, 81%); padding: 2px; color: black\"> D</span> <span style=\"background-color: hsl(226.22669219970703, 66%, 76%); padding: 2px; color: black\">ags</span> <span style=\"background-color: hsl(300.368013381958, 78%, 88%); padding: 2px; color: black\"> K</span> <span style=\"background-color: hsl(157.4386739730835, 63%, 73%); padding: 2px; color: black\">á</span> <span style=\"background-color: hsl(76.03719234466553, 66%, 76%); padding: 2px; color: black\">ra</span> <span style=\"background-color: hsl(302.15247631073, 74%, 84%); padding: 2px; color: black\"> P</span> <span style=\"background-color: hsl(85.08181571960449, 68%, 78%); padding: 2px; color: black\">ét</span> <span style=\"background-color: hsl(148.39405059814453, 61%, 71%); padding: 2px; color: black\">ur</span> <span style=\"background-color: hsl(139.3494701385498, 80%, 90%); padding: 2px; color: black\">sson</span> <span style=\"background-color: hsl(200.8772850036621, 77%, 87%); padding: 2px; color: black\">ar</span> <span style=\"background-color: hsl(218.96653175354004, 60%, 70%); padding: 2px; color: black\"> í</span> <span style=\"background-color: hsl(29.029698371887207, 60%, 70%); padding: 2px; color: black\"> full</span> <span style=\"background-color: hsl(3.680291175842285, 71%, 81%); padding: 2px; color: black\">ri</span> <span style=\"background-color: hsl(229.79557514190674, 79%, 89%); padding: 2px; color: black\"> leng</span> <span style=\"background-color: hsl(83.29735279083252, 72%, 82%); padding: 2px; color: black\">d</span> <span style=\"background-color: hsl(181.00366115570068, 77%, 87%); padding: 2px; color: black\">.</span> <span style=\"background-color: hsl(307.62821674346924, 63%, 73%); padding: 2px; color: black\"> H</span> <span style=\"background-color: hsl(347.3755073547363, 63%, 73%); padding: 2px; color: black\">ún</span> <span style=\"background-color: hsl(293.107852935791, 72%, 82%); padding: 2px; color: black\"> fj</span> <span style=\"background-color: hsl(68.7769889831543, 60%, 70%); padding: 2px; color: black\">all</span> <span style=\"background-color: hsl(200.8772850036621, 77%, 87%); padding: 2px; color: black\">ar</span> <span style=\"background-color: hsl(5.4647111892700195, 67%, 77%); padding: 2px; color: black\"> um</span> <span style=\"background-color: hsl(228.011155128479, 62%, 72%); padding: 2px; color: black\"> un</span> <span style=\"background-color: hsl(298.5835933685303, 61%, 71%); padding: 2px; color: black\">gan</span> <span style=\"background-color: hsl(103.17101955413818, 72%, 82%); padding: 2px; color: black\"> dre</span> <span style=\"background-color: hsl(41.64316177368164, 75%, 85%); padding: 2px; color: black\">ng</span> <span style=\"background-color: hsl(291.3234329223633, 76%, 86%); padding: 2px; color: black\"> a</span> <span style=\"background-color: hsl(238.8401985168457, 60%, 70%); padding: 2px; color: black\">ð</span> <span style=\"background-color: hsl(92.34197616577148, 74%, 84%); padding: 2px; color: black\"> n</span> <span style=\"background-color: hsl(164.69887733459473, 69%, 79%); padding: 2px; color: black\">af</span> <span style=\"background-color: hsl(30.81411838531494, 77%, 87%); padding: 2px; color: black\">ni</span> <span style=\"background-color: hsl(327.50184059143066, 63%, 73%); padding: 2px; color: black\"> N</span> <span style=\"background-color: hsl(318.45726013183594, 61%, 71%); padding: 2px; color: black\">ó</span> <span style=\"background-color: hsl(59.73240852355957, 79%, 89%); padding: 2px; color: black\">i</span> <span style=\"background-color: hsl(336.54646396636963, 65%, 75%); padding: 2px; color: black\">,</span> <span style=\"background-color: hsl(14.509334564208984, 69%, 79%); padding: 2px; color: black\"> sem</span> <span style=\"background-color: hsl(182.78808116912842, 73%, 83%); padding: 2px; color: black\"> b</span> <span style=\"background-color: hsl(23.55395793914795, 71%, 81%); padding: 2px; color: black\">ý</span> <span style=\"background-color: hsl(39.858741760253906, 79%, 89%); padding: 2px; color: black\">r</span> <span style=\"background-color: hsl(218.96653175354004, 60%, 70%); padding: 2px; color: black\"> í</span> <span style=\"background-color: hsl(66.99256896972656, 64%, 74%); padding: 2px; color: black\"> afs</span> <span style=\"background-color: hsl(284.06322956085205, 70%, 80%); padding: 2px; color: black\">kek</span> <span style=\"background-color: hsl(190.0482416152954, 79%, 89%); padding: 2px; color: black\">kt</span> <span style=\"background-color: hsl(144.82521057128906, 69%, 79%); padding: 2px; color: black\">um</span> <span style=\"background-color: hsl(182.78808116912842, 73%, 83%); padding: 2px; color: black\"> b</span> <span style=\"background-color: hsl(121.26022338867188, 76%, 86%); padding: 2px; color: black\">æ</span> <span style=\"background-color: hsl(265.97402572631836, 66%, 76%); padding: 2px; color: black\"> á</span> <span style=\"background-color: hsl(275.0186061859131, 68%, 78%); padding: 2px; color: black\"> �</span> <span style=\"background-color: hsl(166.48329734802246, 65%, 75%); padding: 2px; color: black\">�</span> <span style=\"background-color: hsl(289.5389699935913, 80%, 90%); padding: 2px; color: black\">s</span> <span style=\"background-color: hsl(38.07432174682617, 62%, 72%); padding: 2px; color: black\">land</span> <span style=\"background-color: hsl(59.73240852355957, 79%, 89%); padding: 2px; color: black\">i</span> <span style=\"background-color: hsl(181.00366115570068, 77%, 87%); padding: 2px; color: black\">.</span> <span style=\"background-color: hsl(327.50184059143066, 63%, 73%); padding: 2px; color: black\"> N</span> <span style=\"background-color: hsl(318.45726013183594, 61%, 71%); padding: 2px; color: black\">ó</span> <span style=\"background-color: hsl(59.73240852355957, 79%, 89%); padding: 2px; color: black\">i</span> <span style=\"background-color: hsl(265.97402572631836, 66%, 76%); padding: 2px; color: black\"> á</span> <span style=\"background-color: hsl(218.96653175354004, 60%, 70%); padding: 2px; color: black\"> í</span> <span style=\"background-color: hsl(90.55755615234375, 78%, 88%); padding: 2px; color: black\"> er</span> <span style=\"background-color: hsl(202.66174793243408, 73%, 83%); padding: 2px; color: black\">fi</span> <span style=\"background-color: hsl(238.8401985168457, 60%, 70%); padding: 2px; color: black\">ð</span> <span style=\"background-color: hsl(343.8066244125366, 71%, 81%); padding: 2px; color: black\">le</span> <span style=\"background-color: hsl(10.940494537353516, 77%, 87%); padding: 2px; color: black\">ik</span> <span style=\"background-color: hsl(144.82521057128906, 69%, 79%); padding: 2px; color: black\">um</span> <span style=\"background-color: hsl(218.96653175354004, 60%, 70%); padding: 2px; color: black\"> í</span> <span style=\"background-color: hsl(65.20814895629883, 68%, 78%); padding: 2px; color: black\"> sk</span> <span style=\"background-color: hsl(318.45726013183594, 61%, 71%); padding: 2px; color: black\">ó</span> <span style=\"background-color: hsl(311.1970567703247, 76%, 86%); padding: 2px; color: black\">la</span> <span style=\"background-color: hsl(47.1189022064209, 64%, 74%); padding: 2px; color: black\"> og</span> <span style=\"background-color: hsl(130.30484676361084, 78%, 88%); padding: 2px; color: black\"> f</span> <span style=\"background-color: hsl(153.86983394622803, 71%, 81%); padding: 2px; color: black\">ær</span> <span style=\"background-color: hsl(126.73596382141113, 65%, 75%); padding: 2px; color: black\"> lit</span> <span style=\"background-color: hsl(311.1970567703247, 76%, 86%); padding: 2px; color: black\">la</span> <span style=\"background-color: hsl(199.09286499023438, 60%, 70%); padding: 2px; color: black\"> vir</span> <span style=\"background-color: hsl(238.8401985168457, 60%, 70%); padding: 2px; color: black\">ð</span> <span style=\"background-color: hsl(354.6356678009033, 69%, 79%); padding: 2px; color: black\">ingu</span> <span style=\"background-color: hsl(57.9479455947876, 62%, 72%); padding: 2px; color: black\"> he</span> <span style=\"background-color: hsl(247.88477897644043, 62%, 72%); padding: 2px; color: black\">ima</span> <span style=\"background-color: hsl(74.2527723312378, 70%, 80%); padding: 2px; color: black\"> hj</span> <span style=\"background-color: hsl(157.4386739730835, 63%, 73%); padding: 2px; color: black\">á</span> <span style=\"background-color: hsl(211.7063283920288, 75%, 85%); padding: 2px; color: black\"> s</span> <span style=\"background-color: hsl(119.47580337524414, 80%, 90%); padding: 2px; color: black\">ér</span> <span style=\"background-color: hsl(181.00366115570068, 77%, 87%); padding: 2px; color: black\">.</span> <span style=\"background-color: hsl(146.6096305847168, 65%, 75%); padding: 2px; color: black\"> Hann</span> <span style=\"background-color: hsl(137.56500720977783, 63%, 73%); padding: 2px; color: black\"> k</span> <span style=\"background-color: hsl(175.52792072296143, 67%, 77%); padding: 2px; color: black\">ynn</span> <span style=\"background-color: hsl(264.1895627975464, 70%, 80%); padding: 2px; color: black\">ist</span> <span style=\"background-color: hsl(162.91441440582275, 73%, 83%); padding: 2px; color: black\"> ung</span> <span style=\"background-color: hsl(3.680291175842285, 71%, 81%); padding: 2px; color: black\">ri</span> <span style=\"background-color: hsl(352.8512477874756, 73%, 83%); padding: 2px; color: black\"> st</span> <span style=\"background-color: hsl(110.43118000030518, 78%, 88%); padding: 2px; color: black\">elp</span> <span style=\"background-color: hsl(12.72491455078125, 73%, 83%); padding: 2px; color: black\">u</span> <span style=\"background-color: hsl(171.95903778076172, 75%, 85%); padding: 2px; color: black\"> fr</span> <span style=\"background-color: hsl(157.4386739730835, 63%, 73%); padding: 2px; color: black\">á</span> <span style=\"background-color: hsl(184.57250118255615, 69%, 79%); padding: 2px; color: black\"> Rey</span> <span style=\"background-color: hsl(217.1821117401123, 64%, 74%); padding: 2px; color: black\">k</span> <span style=\"background-color: hsl(320.2416801452637, 78%, 88%); padding: 2px; color: black\">jav</span> <span style=\"background-color: hsl(345.5910873413086, 67%, 77%); padding: 2px; color: black\">í</span> <span style=\"background-color: hsl(217.1821117401123, 64%, 74%); padding: 2px; color: black\">k</span> <span style=\"background-color: hsl(47.1189022064209, 64%, 74%); padding: 2px; color: black\"> og</span> <span style=\"background-color: hsl(265.97402572631836, 66%, 76%); padding: 2px; color: black\"> á</span> <span style=\"background-color: hsl(217.1821117401123, 64%, 74%); padding: 2px; color: black\">k</span> <span style=\"background-color: hsl(273.23418617248535, 72%, 82%); padding: 2px; color: black\">ve</span> <span style=\"background-color: hsl(238.8401985168457, 60%, 70%); padding: 2px; color: black\">ð</span> <span style=\"background-color: hsl(148.39405059814453, 61%, 71%); padding: 2px; color: black\">ur</span> <span style=\"background-color: hsl(291.3234329223633, 76%, 86%); padding: 2px; color: black\"> a</span> <span style=\"background-color: hsl(238.8401985168457, 60%, 70%); padding: 2px; color: black\">ð</span> <span style=\"background-color: hsl(220.75095176696777, 77%, 87%); padding: 2px; color: black\"> str</span> <span style=\"background-color: hsl(112.21564292907715, 74%, 84%); padding: 2px; color: black\">j</span> <span style=\"background-color: hsl(237.05573558807373, 64%, 74%); padding: 2px; color: black\">ú</span> <span style=\"background-color: hsl(256.9294023513794, 64%, 74%); padding: 2px; color: black\">ka</span> <span style=\"background-color: hsl(218.96653175354004, 60%, 70%); padding: 2px; color: black\"> í</span> <span style=\"background-color: hsl(182.78808116912842, 73%, 83%); padding: 2px; color: black\"> b</span> <span style=\"background-color: hsl(1.8958711624145508, 75%, 85%); padding: 2px; color: black\">urt</span> <span style=\"background-color: hsl(12.72491455078125, 73%, 83%); padding: 2px; color: black\">u</span> <span style=\"background-color: hsl(316.67279720306396, 65%, 75%); padding: 2px; color: black\"> me</span> <span style=\"background-color: hsl(238.8401985168457, 60%, 70%); padding: 2px; color: black\">ð</span> <span style=\"background-color: hsl(282.2788095474243, 74%, 84%); padding: 2px; color: black\"> h</span> <span style=\"background-color: hsl(334.7620439529419, 69%, 79%); padding: 2px; color: black\">enn</span> <span style=\"background-color: hsl(59.73240852355957, 79%, 89%); padding: 2px; color: black\">i</span> <span style=\"background-color: hsl(181.00366115570068, 77%, 87%); padding: 2px; color: black\">.</span> <span style=\"background-color: hsl(81.51293277740479, 76%, 86%); padding: 2px; color: black\"> En</span> <span style=\"background-color: hsl(282.2788095474243, 74%, 84%); padding: 2px; color: black\"> h</span> <span style=\"background-color: hsl(347.3755073547363, 63%, 73%); padding: 2px; color: black\">ún</span> <span style=\"background-color: hsl(90.55755615234375, 78%, 88%); padding: 2px; color: black\"> er</span> <span style=\"background-color: hsl(271.4497661590576, 76%, 86%); padding: 2px; color: black\"> ek</span> <span style=\"background-color: hsl(329.28630352020264, 80%, 90%); padding: 2px; color: black\">ki</span> <span style=\"background-color: hsl(265.97402572631836, 66%, 76%); padding: 2px; color: black\"> á</span> <span style=\"background-color: hsl(63.423686027526855, 72%, 82%); padding: 2px; color: black\"> sama</span> <span style=\"background-color: hsl(54.37910556793213, 70%, 80%); padding: 2px; color: black\"> má</span> <span style=\"background-color: hsl(209.92190837860107, 79%, 89%); padding: 2px; color: black\">li</span> <span style=\"background-color: hsl(181.00366115570068, 77%, 87%); padding: 2px; color: black\">.</span> <span style=\"background-color: hsl(300.368013381958, 78%, 88%); padding: 2px; color: black\"> K</span> <span style=\"background-color: hsl(173.74345779418945, 71%, 81%); padding: 2px; color: black\">vik</span> <span style=\"background-color: hsl(280.49434661865234, 78%, 88%); padding: 2px; color: black\">my</span> <span style=\"background-color: hsl(32.598581314086914, 73%, 83%); padding: 2px; color: black\">nd</span> <span style=\"background-color: hsl(72.46830940246582, 74%, 84%); padding: 2px; color: black\">in</span> <span style=\"background-color: hsl(309.412636756897, 80%, 90%); padding: 2px; color: black\"> hl</span> <span style=\"background-color: hsl(235.271315574646, 68%, 78%); padding: 2px; color: black\">aut</span> <span style=\"background-color: hsl(94.12639617919922, 70%, 80%); padding: 2px; color: black\"> sex</span> <span style=\"background-color: hsl(155.65425395965576, 67%, 77%); padding: 2px; color: black\"> E</span> <span style=\"background-color: hsl(19.985074996948242, 79%, 89%); padding: 2px; color: black\">dd</span> <span style=\"background-color: hsl(12.72491455078125, 73%, 83%); padding: 2px; color: black\">u</span> <span style=\"background-color: hsl(262.40514278411865, 74%, 84%); padding: 2px; color: black\">ver</span> <span style=\"background-color: hsl(238.8401985168457, 60%, 70%); padding: 2px; color: black\">ð</span> <span style=\"background-color: hsl(311.1970567703247, 76%, 86%); padding: 2px; color: black\">la</span> <span style=\"background-color: hsl(208.13748836517334, 62%, 72%); padding: 2px; color: black\">un</span> <span style=\"background-color: hsl(99.60213661193848, 80%, 90%); padding: 2px; color: black\"> </span> <span style=\"background-color: hsl(356.4201307296753, 65%, 75%); padding: 2px; color: black\">200</span> <span style=\"background-color: hsl(246.1003589630127, 66%, 76%); padding: 2px; color: black\">3</span> <span style=\"background-color: hsl(47.1189022064209, 64%, 74%); padding: 2px; color: black\"> og</span> <span style=\"background-color: hsl(108.64675998687744, 61%, 71%); padding: 2px; color: black\"> var</span> <span style=\"background-color: hsl(21.769537925720215, 75%, 85%); padding: 2px; color: black\"> send</span> <span style=\"background-color: hsl(218.96653175354004, 60%, 70%); padding: 2px; color: black\"> í</span> <span style=\"background-color: hsl(128.5204267501831, 61%, 71%); padding: 2px; color: black\"> for</span> <span style=\"background-color: hsl(325.71742057800293, 67%, 77%); padding: 2px; color: black\">val</span> <span style=\"background-color: hsl(244.31593894958496, 70%, 80%); padding: 2px; color: black\"> til</span> <span style=\"background-color: hsl(275.0186061859131, 68%, 78%); padding: 2px; color: black\"> �</span> <span style=\"background-color: hsl(166.48329734802246, 65%, 75%); padding: 2px; color: black\">�</span> <span style=\"background-color: hsl(50.687785148620605, 77%, 87%); padding: 2px; color: black\">sk</span> <span style=\"background-color: hsl(48.90336513519287, 60%, 70%); padding: 2px; color: black\">ars</span> <span style=\"background-color: hsl(253.3605194091797, 72%, 82%); padding: 2px; color: black\">ins</span> <span style=\"background-color: hsl(99.60213661193848, 80%, 90%); padding: 2px; color: black\"> </span> <span style=\"background-color: hsl(356.4201307296753, 65%, 75%); padding: 2px; color: black\">200</span> <span style=\"background-color: hsl(255.14498233795166, 68%, 78%); padding: 2px; color: black\">4</span> <span style=\"background-color: hsl(181.00366115570068, 77%, 87%); padding: 2px; color: black\">.</span> <span style=\"background-color: hsl(99.60213661193848, 80%, 90%); padding: 2px; color: black\"> </span> "
      ],
      "text/plain": [
       "<IPython.core.display.HTML object>"
      ]
     },
     "metadata": {},
     "output_type": "display_data"
    },
    {
     "name": "stdout",
     "output_type": "stream",
     "text": [
      "Number of Tokens: 182\n",
      "Number of Characters: 399\n",
      "==================================================\n"
     ]
    }
   ],
   "source": [
    "from IPython.display import HTML, display\n",
    "import tiktoken\n",
    "\n",
    "model = \"gpt4\"\n",
    "\n",
    "enc = tiktoken.encoding_for_model(\"gpt-4\") # GPT-4 tokenizer\n",
    "tokens = [enc.decode([i]) for i in enc.encode(text)] # tokanize the text, then convert individual tokens back to text\n",
    "token_colors = get_token_colors(tokens)\n",
    "\n",
    "display(HTML(f\"<p ><b>Model:</b> {model}</p><p><b>Tokens:</b>\"))\n",
    "display_colored_tokens(tokens, token_colors)\n",
    "\n",
    "# Calculate and display the number of tokens and characters\n",
    "num_tokens = len(tokens)\n",
    "num_chars = len(text)\n",
    "print(f\"Number of Tokens: {num_tokens}\")\n",
    "print(f\"Number of Characters: {num_chars}\")\n",
    "print(\"=\" * 50)"
   ]
  }
 ],
 "metadata": {
  "kernelspec": {
   "display_name": "Python 3 (ipykernel)",
   "language": "python",
   "name": "python3"
  },
  "language_info": {
   "codemirror_mode": {
    "name": "ipython",
    "version": 3
   },
   "file_extension": ".py",
   "mimetype": "text/x-python",
   "name": "python",
   "nbconvert_exporter": "python",
   "pygments_lexer": "ipython3",
   "version": "3.9.1"
  }
 },
 "nbformat": 4,
 "nbformat_minor": 5
}
