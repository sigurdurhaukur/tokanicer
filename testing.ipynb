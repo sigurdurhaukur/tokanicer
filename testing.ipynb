{
 "cells": [
  {
   "cell_type": "code",
   "execution_count": 5,
   "metadata": {},
   "outputs": [],
   "source": [
    "from transformers import AutoTokenizer\n",
    "\n",
    "ice_breaker_tokenizer = AutoTokenizer.from_pretrained(\"Sigurdur/icebreaker\")\n",
    "jonfd_tokenizer = AutoTokenizer.from_pretrained(\"jonfd/gpt2-igc-is\")"
   ]
  },
  {
   "cell_type": "code",
   "execution_count": 6,
   "metadata": {},
   "outputs": [],
   "source": [
    "import tiktoken\n",
    "\n",
    "gpt4_tokenizer = tiktoken.encoding_for_model(\"gpt-4\")\n",
    "gpt2_tokenizer = tiktoken.encoding_for_model(\"gpt-2\")"
   ]
  },
  {
   "cell_type": "code",
   "execution_count": 20,
   "metadata": {},
   "outputs": [
    {
     "data": {
      "text/plain": [
       "(29403, 160440, 6064)"
      ]
     },
     "execution_count": 20,
     "metadata": {},
     "output_type": "execute_result"
    }
   ],
   "source": [
    "n_words = 0\n",
    "n_chars = 0\n",
    "\n",
    "unique_words = set()\n",
    "\n",
    "try:\n",
    "    with open(\"./test_data/laxdaela.txt\", \"r\") as f:\n",
    "        test = f.readline()\n",
    "        while test:\n",
    "            words = test.split()\n",
    "            for word in words:\n",
    "                if word not in unique_words:\n",
    "                    unique_words.add(word)\n",
    "            n_chars += len(test)\n",
    "            n_words += len(test.split())\n",
    "            test = f.readline()\n",
    "except FileNotFoundError:\n",
    "    print(\"Error: file not found\")\n",
    "except AttributeError:\n",
    "    print(\"Error: the tokenizer is not defined\")\n",
    "\n",
    "n_words, n_chars, len(unique_words)"
   ]
  },
  {
   "cell_type": "code",
   "execution_count": 7,
   "metadata": {},
   "outputs": [],
   "source": [
    "# read test file\n",
    "\n",
    "\n",
    "def test_tokenizer(\n",
    "    tokenize_text, test_path=\"./test_data/laxdaela.txt\",\n",
    "):\n",
    "\n",
    "    n_tokens = 0\n",
    "    n_words = 0\n",
    "    n_chars = 0\n",
    "\n",
    "    try:\n",
    "        with open(test_path, \"r\") as f:\n",
    "            test = f.readline()\n",
    "            while test:\n",
    "                tokens = tokenize_text(test)\n",
    "                n_tokens += len(tokens)\n",
    "                n_chars += len(test)\n",
    "                n_words += len(test.split())\n",
    "                test = f.readline()\n",
    "    except FileNotFoundError:\n",
    "        print(\"Error: file not found\")\n",
    "    except AttributeError:\n",
    "        print(\"Error: the tokenizer is not defined\")\n",
    "\n",
    "\n",
    "    tokens_per_word = n_tokens / n_words\n",
    "    tokens_per_char = n_tokens / n_chars\n",
    "\n",
    "    return tokens_per_word, tokens_per_char"
   ]
  },
  {
   "cell_type": "code",
   "execution_count": 18,
   "metadata": {},
   "outputs": [
    {
     "name": "stdout",
     "output_type": "stream",
     "text": [
      "Testing icebreaker tokenizer\n",
      "Tokens per word: 1.40\n",
      "Tokens per character: 0.26\n",
      "\n",
      "\n",
      "Testing jonfd tokenizer\n",
      "Tokens per word: 1.34\n",
      "Tokens per character: 0.25\n",
      "\n",
      "\n",
      "Testing gpt-4 tokenizer\n",
      "Tokens per word: 2.46\n",
      "Tokens per character: 0.45\n",
      "\n",
      "\n",
      "Testing gpt-2 tokenizer\n",
      "Tokens per word: 2.82\n",
      "Tokens per character: 0.52\n",
      "\n",
      "\n"
     ]
    }
   ],
   "source": [
    "test_cases = [\n",
    "    [ice_breaker_tokenizer.tokenize, \"icebreaker\"], \n",
    "    [jonfd_tokenizer.tokenize, \"jonfd\"],\n",
    "    [gpt4_tokenizer.encode, \"gpt-4\"],\n",
    "    [gpt2_tokenizer.encode, \"gpt-2\"]\n",
    "              ]\n",
    "\n",
    "for test_case in test_cases:\n",
    "    print(f\"Testing {test_case[1]} tokenizer\")\n",
    "    tokens_per_word, tokens_per_char = test_tokenizer(test_case[0])\n",
    "    print(f\"Tokens per word: {tokens_per_word:.2f}\")\n",
    "    print(f\"Tokens per character: {tokens_per_char:.2f}\")\n",
    "    print(\"\\n\")"
   ]
  },
  {
   "cell_type": "code",
   "execution_count": 25,
   "metadata": {},
   "outputs": [
    {
     "name": "stdout",
     "output_type": "stream",
     "text": [
      "Vocab size\n",
      "gpt-2 50257\n",
      "gpt-4 100277\n",
      "icebreaker 32000\n",
      "jonfd 51000\n"
     ]
    }
   ],
   "source": [
    "# vocab size\n",
    "print(\"Vocab size\")\n",
    "print(\"gpt-2\", gpt2_tokenizer.n_vocab)\n",
    "print(\"gpt-4\", gpt4_tokenizer.n_vocab)\n",
    "print(\"icebreaker\", ice_breaker_tokenizer.vocab_size)\n",
    "print(\"jonfd\", jonfd_tokenizer.vocab_size)"
   ]
  },
  {
   "cell_type": "code",
   "execution_count": 9,
   "metadata": {},
   "outputs": [],
   "source": [
    "# Generates a dictionary mapping unique texts/tokens with their corresponding color\n",
    "def get_token_colors(tokens):\n",
    "    unique_tokens = list(set(tokens))\n",
    "    token_colors = {\n",
    "        token: number_to_color(index) for index, token in enumerate(unique_tokens)\n",
    "    }\n",
    "    return token_colors\n",
    "\n",
    "\n",
    "# Displays the tokens with the unique color\n",
    "def display_colored_tokens(tokens, token_colors):\n",
    "    colored_text = \"\"\n",
    "    for token in tokens:\n",
    "        color = token_colors[token]\n",
    "        colored_text += f'<span style=\"background-color: {color}; padding: 2px; color: black\">{token}</span> '\n",
    "\n",
    "    display(HTML(colored_text))\n",
    "\n",
    "\n",
    "# Generates a unique HSL color based on the index of the token\n",
    "def number_to_color(number):\n",
    "    golden_ratio_conjugate = 0.618033988749895\n",
    "    a = 1664525\n",
    "    c = 1013904223\n",
    "    m = 2**32\n",
    "\n",
    "    pseudorandom = (a * number + c) % m\n",
    "    hue = ((pseudorandom * golden_ratio_conjugate) % 1) * 360\n",
    "    s = 60 + (pseudorandom % 21)\n",
    "    l = 70 + (pseudorandom % 21)\n",
    "\n",
    "    return f\"hsl({hue}, {s}%, {l}%)\""
   ]
  },
  {
   "cell_type": "code",
   "execution_count": 15,
   "metadata": {},
   "outputs": [],
   "source": [
    "text = \"\"\n",
    "max_length = 1024\n",
    "with open(\"./test_data/laxdaela.txt\", \"r\") as f:\n",
    "    for line in f:\n",
    "        text += line\n",
    "\n",
    "        if len(text) > max_length:\n",
    "            break\n",
    "    "
   ]
  },
  {
   "cell_type": "code",
   "execution_count": 16,
   "metadata": {},
   "outputs": [
    {
     "data": {
      "text/html": [
       "<p ><b>Model:</b> ./new_tokenizer</p><p><b>Tokens:</b>"
      ],
      "text/plain": [
       "<IPython.core.display.HTML object>"
      ]
     },
     "metadata": {},
     "output_type": "display_data"
    },
    {
     "data": {
      "text/html": [
       "<span style=\"background-color: hsl(284.06322956085205, 70%, 80%); padding: 2px; color: black\">VA</span> <span style=\"background-color: hsl(289.5389699935913, 80%, 90%); padding: 2px; color: black\">T</span> <span style=\"background-color: hsl(63.423686027526855, 72%, 82%); padding: 2px; color: black\">N</span> <span style=\"background-color: hsl(341.89976692199707, 74%, 84%); padding: 2px; color: black\">S</span> <span style=\"background-color: hsl(177.31234073638916, 63%, 73%); padding: 2px; color: black\">D</span> <span style=\"background-color: hsl(343.8066244125366, 71%, 81%); padding: 2px; color: black\">Æ</span> <span style=\"background-color: hsl(23.55395793914795, 71%, 81%); padding: 2px; color: black\">LA</span> <span style=\"background-color: hsl(280.3719091415405, 77%, 87%); padding: 2px; color: black\"> </span> <span style=\"background-color: hsl(21.769537925720215, 75%, 85%); padding: 2px; color: black\"> SA</span> <span style=\"background-color: hsl(121.26022338867188, 76%, 86%); padding: 2px; color: black\">GA</span> <span style=\"background-color: hsl(307.62821674346924, 63%, 73%); padding: 2px; color: black\">\n",
       "</span> <span style=\"background-color: hsl(307.62821674346924, 63%, 73%); padding: 2px; color: black\">\n",
       "</span> <span style=\"background-color: hsl(103.17101955413818, 72%, 82%); padding: 2px; color: black\">1</span> <span style=\"background-color: hsl(197.18600749969482, 63%, 73%); padding: 2px; color: black\">.</span> <span style=\"background-color: hsl(213.49079132080078, 71%, 81%); padding: 2px; color: black\"> kafli</span> <span style=\"background-color: hsl(307.62821674346924, 63%, 73%); padding: 2px; color: black\">\n",
       "</span> <span style=\"background-color: hsl(307.62821674346924, 63%, 73%); padding: 2px; color: black\">\n",
       "</span> <span style=\"background-color: hsl(260.4982852935791, 77%, 87%); padding: 2px; color: black\">Maður</span> <span style=\"background-color: hsl(12.72491455078125, 73%, 83%); padding: 2px; color: black\"> er</span> <span style=\"background-color: hsl(193.61712455749512, 71%, 81%); padding: 2px; color: black\"> nefndur</span> <span style=\"background-color: hsl(54.25666809082031, 69%, 79%); padding: 2px; color: black\"> K</span> <span style=\"background-color: hsl(7.249174118041992, 63%, 73%); padding: 2px; color: black\">et</span> <span style=\"background-color: hsl(27.122840881347656, 63%, 73%); padding: 2px; color: black\">ill</span> <span style=\"background-color: hsl(148.39405059814453, 61%, 71%); padding: 2px; color: black\"> og</span> <span style=\"background-color: hsl(18.07821750640869, 61%, 71%); padding: 2px; color: black\"> var</span> <span style=\"background-color: hsl(184.57250118255615, 69%, 79%); padding: 2px; color: black\"> kallaður</span> <span style=\"background-color: hsl(37.951884269714355, 61%, 71%); padding: 2px; color: black\"> ra</span> <span style=\"background-color: hsl(226.22669219970703, 66%, 76%); padding: 2px; color: black\">um</span> <span style=\"background-color: hsl(99.60213661193848, 80%, 90%); padding: 2px; color: black\">ur</span> <span style=\"background-color: hsl(197.18600749969482, 63%, 73%); padding: 2px; color: black\">.</span> <span style=\"background-color: hsl(282.2788095474243, 74%, 84%); padding: 2px; color: black\"> Hann</span> <span style=\"background-color: hsl(18.07821750640869, 61%, 71%); padding: 2px; color: black\"> var</span> <span style=\"background-color: hsl(36.16742134094238, 65%, 75%); padding: 2px; color: black\"> rík</span> <span style=\"background-color: hsl(99.60213661193848, 80%, 90%); padding: 2px; color: black\">ur</span> <span style=\"background-color: hsl(29.029698371887207, 60%, 70%); padding: 2px; color: black\"> maður</span> <span style=\"background-color: hsl(197.18600749969482, 63%, 73%); padding: 2px; color: black\">.</span> <span style=\"background-color: hsl(282.2788095474243, 74%, 84%); padding: 2px; color: black\"> Hann</span> <span style=\"background-color: hsl(242.40903854370117, 73%, 83%); padding: 2px; color: black\"> bjó</span> <span style=\"background-color: hsl(332.8551435470581, 72%, 82%); padding: 2px; color: black\"> á</span> <span style=\"background-color: hsl(340.11534690856934, 78%, 88%); padding: 2px; color: black\"> þeim</span> <span style=\"background-color: hsl(322.0261001586914, 74%, 84%); padding: 2px; color: black\"> bæ</span> <span style=\"background-color: hsl(12.72491455078125, 73%, 83%); padding: 2px; color: black\"> er</span> <span style=\"background-color: hsl(275.0186061859131, 68%, 78%); padding: 2px; color: black\"> í</span> <span style=\"background-color: hsl(1.7734336853027344, 74%, 84%); padding: 2px; color: black\"> R</span> <span style=\"background-color: hsl(153.86983394622803, 71%, 81%); padding: 2px; color: black\">aum</span> <span style=\"background-color: hsl(217.05963134765625, 63%, 73%); padding: 2px; color: black\">sdal</span> <span style=\"background-color: hsl(92.34197616577148, 74%, 84%); padding: 2px; color: black\"> heitir</span> <span style=\"background-color: hsl(197.18600749969482, 63%, 73%); padding: 2px; color: black\">.</span> <span style=\"background-color: hsl(222.5353717803955, 73%, 83%); padding: 2px; color: black\"> Það</span> <span style=\"background-color: hsl(12.72491455078125, 73%, 83%); padding: 2px; color: black\"> er</span> <span style=\"background-color: hsl(34.38300132751465, 69%, 79%); padding: 2px; color: black\"> nor</span> <span style=\"background-color: hsl(291.3234329223633, 76%, 86%); padding: 2px; color: black\">ðar</span> <span style=\"background-color: hsl(56.16352558135986, 66%, 76%); padding: 2px; color: black\">lega</span> <span style=\"background-color: hsl(275.0186061859131, 68%, 78%); padding: 2px; color: black\"> í</span> <span style=\"background-color: hsl(88.65065574645996, 60%, 70%); padding: 2px; color: black\"> Noregi</span> <span style=\"background-color: hsl(197.18600749969482, 63%, 73%); padding: 2px; color: black\">.</span> <span style=\"background-color: hsl(282.2788095474243, 74%, 84%); padding: 2px; color: black\"> Hann</span> <span style=\"background-color: hsl(18.07821750640869, 61%, 71%); padding: 2px; color: black\"> var</span> <span style=\"background-color: hsl(349.15992736816406, 80%, 90%); padding: 2px; color: black\"> son</span> <span style=\"background-color: hsl(124.82910633087158, 68%, 78%); padding: 2px; color: black\"> Or</span> <span style=\"background-color: hsl(267.7584457397461, 62%, 72%); padding: 2px; color: black\">ms</span> <span style=\"background-color: hsl(218.96653175354004, 60%, 70%); padding: 2px; color: black\"> skel</span> <span style=\"background-color: hsl(204.44616794586182, 69%, 79%); padding: 2px; color: black\">jam</span> <span style=\"background-color: hsl(128.5204267501831, 61%, 71%); padding: 2px; color: black\">ola</span> <span style=\"background-color: hsl(43.42762470245361, 71%, 81%); padding: 2px; color: black\"> Hross</span> <span style=\"background-color: hsl(325.5949831008911, 66%, 76%); padding: 2px; color: black\">bjarnar</span> <span style=\"background-color: hsl(166.48329734802246, 65%, 75%); padding: 2px; color: black\">sonar</span> <span style=\"background-color: hsl(189.9258041381836, 78%, 88%); padding: 2px; color: black\">,</span> <span style=\"background-color: hsl(296.6766929626465, 64%, 74%); padding: 2px; color: black\"> J</span> <span style=\"background-color: hsl(320.2416801452637, 78%, 88%); padding: 2px; color: black\">öt</span> <span style=\"background-color: hsl(278.5874891281128, 60%, 70%); padding: 2px; color: black\">un</span> <span style=\"background-color: hsl(276.80306911468506, 64%, 74%); padding: 2px; color: black\">-</span> <span style=\"background-color: hsl(334.6396064758301, 68%, 78%); padding: 2px; color: black\">B</span> <span style=\"background-color: hsl(38.07432174682617, 62%, 72%); padding: 2px; color: black\">jarnar</span> <span style=\"background-color: hsl(166.48329734802246, 65%, 75%); padding: 2px; color: black\">sonar</span> <span style=\"background-color: hsl(72.345871925354, 73%, 83%); padding: 2px; color: black\"> norðan</span> <span style=\"background-color: hsl(173.74345779418945, 71%, 81%); padding: 2px; color: black\"> úr</span> <span style=\"background-color: hsl(88.65065574645996, 60%, 70%); padding: 2px; color: black\"> Noregi</span> <span style=\"background-color: hsl(197.18600749969482, 63%, 73%); padding: 2px; color: black\">.</span> <span style=\"background-color: hsl(347.3755073547363, 63%, 73%); padding: 2px; color: black\"> Þá</span> <span style=\"background-color: hsl(112.21564292907715, 74%, 84%); padding: 2px; color: black\"> voru</span> <span style=\"background-color: hsl(10.940494537353516, 77%, 87%); padding: 2px; color: black\"> fylki</span> <span style=\"background-color: hsl(155.65425395965576, 67%, 77%); padding: 2px; color: black\">skon</span> <span style=\"background-color: hsl(305.72131633758545, 66%, 76%); padding: 2px; color: black\">ungar</span> <span style=\"background-color: hsl(275.0186061859131, 68%, 78%); padding: 2px; color: black\"> í</span> <span style=\"background-color: hsl(88.65065574645996, 60%, 70%); padding: 2px; color: black\"> Noregi</span> <span style=\"background-color: hsl(12.72491455078125, 73%, 83%); padding: 2px; color: black\"> er</span> <span style=\"background-color: hsl(16.293797492980957, 65%, 75%); padding: 2px; color: black\"> þessi</span> <span style=\"background-color: hsl(195.40154457092285, 67%, 77%); padding: 2px; color: black\"> saga</span> <span style=\"background-color: hsl(229.79557514190674, 79%, 89%); padding: 2px; color: black\"> gerðist</span> <span style=\"background-color: hsl(197.18600749969482, 63%, 73%); padding: 2px; color: black\">.</span> <span style=\"background-color: hsl(54.25666809082031, 69%, 79%); padding: 2px; color: black\"> K</span> <span style=\"background-color: hsl(7.249174118041992, 63%, 73%); padding: 2px; color: black\">et</span> <span style=\"background-color: hsl(27.122840881347656, 63%, 73%); padding: 2px; color: black\">ill</span> <span style=\"background-color: hsl(18.07821750640869, 61%, 71%); padding: 2px; color: black\"> var</span> <span style=\"background-color: hsl(199.09286499023438, 60%, 70%); padding: 2px; color: black\"> ág</span> <span style=\"background-color: hsl(358.204550743103, 61%, 71%); padding: 2px; color: black\">ætur</span> <span style=\"background-color: hsl(29.029698371887207, 60%, 70%); padding: 2px; color: black\"> maður</span> <span style=\"background-color: hsl(148.39405059814453, 61%, 71%); padding: 2px; color: black\"> og</span> <span style=\"background-color: hsl(314.7659397125244, 68%, 78%); padding: 2px; color: black\"> vel</span> <span style=\"background-color: hsl(19.985074996948242, 79%, 89%); padding: 2px; color: black\"> au</span> <span style=\"background-color: hsl(217.1821117401123, 64%, 74%); padding: 2px; color: black\">ði</span> <span style=\"background-color: hsl(300.368013381958, 78%, 88%); padding: 2px; color: black\">gur</span> <span style=\"background-color: hsl(345.5910873413086, 67%, 77%); padding: 2px; color: black\"> að</span> <span style=\"background-color: hsl(79.606032371521, 79%, 89%); padding: 2px; color: black\"> fé</span> <span style=\"background-color: hsl(189.9258041381836, 78%, 88%); padding: 2px; color: black\">,</span> <span style=\"background-color: hsl(273.23418617248535, 72%, 82%); padding: 2px; color: black\"> ramm</span> <span style=\"background-color: hsl(99.60213661193848, 80%, 90%); padding: 2px; color: black\">ur</span> <span style=\"background-color: hsl(345.5910873413086, 67%, 77%); padding: 2px; color: black\"> að</span> <span style=\"background-color: hsl(202.66174793243408, 73%, 83%); padding: 2px; color: black\"> afli</span> <span style=\"background-color: hsl(148.39405059814453, 61%, 71%); padding: 2px; color: black\"> og</span> <span style=\"background-color: hsl(101.38659954071045, 76%, 86%); padding: 2px; color: black\"> hinn</span> <span style=\"background-color: hsl(323.8105630874634, 70%, 80%); padding: 2px; color: black\"> rösk</span> <span style=\"background-color: hsl(146.6096305847168, 65%, 75%); padding: 2px; color: black\">v</span> <span style=\"background-color: hsl(85.08181571960449, 68%, 78%); padding: 2px; color: black\">asti</span> <span style=\"background-color: hsl(275.0186061859131, 68%, 78%); padding: 2px; color: black\"> í</span> <span style=\"background-color: hsl(139.3494701385498, 80%, 90%); padding: 2px; color: black\"> öllum</span> <span style=\"background-color: hsl(285.8476495742798, 66%, 76%); padding: 2px; color: black\"> mann</span> <span style=\"background-color: hsl(108.64675998687744, 61%, 71%); padding: 2px; color: black\">ra</span> <span style=\"background-color: hsl(233.3644151687622, 71%, 81%); padding: 2px; color: black\">unum</span> <span style=\"background-color: hsl(148.39405059814453, 61%, 71%); padding: 2px; color: black\"> og</span> <span style=\"background-color: hsl(208.01505088806152, 61%, 71%); padding: 2px; color: black\"> hafði</span> <span style=\"background-color: hsl(231.57999515533447, 75%, 85%); padding: 2px; color: black\"> verið</span> <span style=\"background-color: hsl(275.0186061859131, 68%, 78%); padding: 2px; color: black\"> í</span> <span style=\"background-color: hsl(224.31983470916748, 69%, 79%); padding: 2px; color: black\"> hernaði</span> <span style=\"background-color: hsl(101.38659954071045, 76%, 86%); padding: 2px; color: black\"> hinn</span> <span style=\"background-color: hsl(168.2677173614502, 61%, 71%); padding: 2px; color: black\"> fyrra</span> <span style=\"background-color: hsl(226.10425472259521, 65%, 75%); padding: 2px; color: black\"> hlut</span> <span style=\"background-color: hsl(338.33088397979736, 61%, 71%); padding: 2px; color: black\"> ævi</span> <span style=\"background-color: hsl(182.78808116912842, 73%, 83%); padding: 2px; color: black\"> sinnar</span> <span style=\"background-color: hsl(334.7620439529419, 69%, 79%); padding: 2px; color: black\"> en</span> <span style=\"background-color: hsl(30.81411838531494, 77%, 87%); padding: 2px; color: black\"> settist</span> <span style=\"background-color: hsl(32.598581314086914, 73%, 83%); padding: 2px; color: black\"> nú</span> <span style=\"background-color: hsl(345.5910873413086, 67%, 77%); padding: 2px; color: black\"> að</span> <span style=\"background-color: hsl(99.47969913482666, 79%, 89%); padding: 2px; color: black\"> bú</span> <span style=\"background-color: hsl(244.19350147247314, 69%, 79%); padding: 2px; color: black\">m</span> <span style=\"background-color: hsl(77.82161235809326, 62%, 72%); padding: 2px; color: black\"> sínum</span> <span style=\"background-color: hsl(28.90726089477539, 80%, 90%); padding: 2px; color: black\"> sem</span> <span style=\"background-color: hsl(255.14498233795166, 68%, 78%); padding: 2px; color: black\"> aldur</span> <span style=\"background-color: hsl(135.65814971923828, 66%, 76%); padding: 2px; color: black\"> færðist</span> <span style=\"background-color: hsl(61.516828536987305, 75%, 85%); padding: 2px; color: black\"> yfir</span> <span style=\"background-color: hsl(126.73596382141113, 65%, 75%); padding: 2px; color: black\"> hann</span> <span style=\"background-color: hsl(197.18600749969482, 63%, 73%); padding: 2px; color: black\">.</span> <span style=\"background-color: hsl(282.2788095474243, 74%, 84%); padding: 2px; color: black\"> Hann</span> <span style=\"background-color: hsl(198.97042751312256, 80%, 90%); padding: 2px; color: black\"> átti</span> <span style=\"background-color: hsl(66.99256896972656, 64%, 74%); padding: 2px; color: black\"> M</span> <span style=\"background-color: hsl(117.6913833618164, 63%, 73%); padding: 2px; color: black\">jöll</span> <span style=\"background-color: hsl(336.54646396636963, 65%, 75%); padding: 2px; color: black\"> dóttur</span> <span style=\"background-color: hsl(269.5428657531738, 79%, 89%); padding: 2px; color: black\"> Á</span> <span style=\"background-color: hsl(94.12639617919922, 70%, 80%); padding: 2px; color: black\">nar</span> <span style=\"background-color: hsl(356.4201307296753, 65%, 75%); padding: 2px; color: black\"> bog</span> <span style=\"background-color: hsl(171.95903778076172, 75%, 85%); padding: 2px; color: black\">sveig</span> <span style=\"background-color: hsl(352.72881031036377, 72%, 82%); padding: 2px; color: black\">is</span> <span style=\"background-color: hsl(197.18600749969482, 63%, 73%); padding: 2px; color: black\">.</span> <span style=\"background-color: hsl(54.25666809082031, 69%, 79%); padding: 2px; color: black\"> K</span> <span style=\"background-color: hsl(7.249174118041992, 63%, 73%); padding: 2px; color: black\">et</span> <span style=\"background-color: hsl(27.122840881347656, 63%, 73%); padding: 2px; color: black\">ill</span> <span style=\"background-color: hsl(198.97042751312256, 80%, 90%); padding: 2px; color: black\"> átti</span> <span style=\"background-color: hsl(349.15992736816406, 80%, 90%); padding: 2px; color: black\"> son</span> <span style=\"background-color: hsl(150.1785135269165, 78%, 88%); padding: 2px; color: black\"> með</span> <span style=\"background-color: hsl(63.30124855041504, 71%, 81%); padding: 2px; color: black\"> henni</span> <span style=\"background-color: hsl(197.18600749969482, 63%, 73%); padding: 2px; color: black\">.</span> <span style=\"background-color: hsl(282.2788095474243, 74%, 84%); padding: 2px; color: black\"> Hann</span> <span style=\"background-color: hsl(12.72491455078125, 73%, 83%); padding: 2px; color: black\"> er</span> <span style=\"background-color: hsl(287.63211250305176, 62%, 72%); padding: 2px; color: black\"> Þorsteinn</span> <span style=\"background-color: hsl(193.61712455749512, 71%, 81%); padding: 2px; color: black\"> nefndur</span> <span style=\"background-color: hsl(197.18600749969482, 63%, 73%); padding: 2px; color: black\">.</span> <span style=\"background-color: hsl(282.2788095474243, 74%, 84%); padding: 2px; color: black\"> Hann</span> <span style=\"background-color: hsl(18.07821750640869, 61%, 71%); padding: 2px; color: black\"> var</span> <span style=\"background-color: hsl(170.05218029022217, 78%, 88%); padding: 2px; color: black\"> væ</span> <span style=\"background-color: hsl(352.8512477874756, 73%, 83%); padding: 2px; color: black\">nn</span> <span style=\"background-color: hsl(29.029698371887207, 60%, 70%); padding: 2px; color: black\"> maður</span> <span style=\"background-color: hsl(159.22313690185547, 80%, 90%); padding: 2px; color: black\"> sjónum</span> <span style=\"background-color: hsl(197.18600749969482, 63%, 73%); padding: 2px; color: black\">.</span> <span style=\"background-color: hsl(327.50184059143066, 63%, 73%); padding: 2px; color: black\"> Eng</span> <span style=\"background-color: hsl(343.6841869354248, 70%, 80%); padding: 2px; color: black\">i</span> <span style=\"background-color: hsl(18.07821750640869, 61%, 71%); padding: 2px; color: black\"> var</span> <span style=\"background-color: hsl(126.73596382141113, 65%, 75%); padding: 2px; color: black\"> hann</span> <span style=\"background-color: hsl(5.4647111892700195, 67%, 77%); padding: 2px; color: black\"> ágæti</span> <span style=\"background-color: hsl(157.4386739730835, 63%, 73%); padding: 2px; color: black\">smaður</span> <span style=\"background-color: hsl(332.8551435470581, 72%, 82%); padding: 2px; color: black\"> á</span> <span style=\"background-color: hsl(188.14138412475586, 61%, 71%); padding: 2px; color: black\"> vöxt</span> <span style=\"background-color: hsl(164.69887733459473, 69%, 79%); padding: 2px; color: black\"> eða</span> <span style=\"background-color: hsl(1.8958711624145508, 75%, 85%); padding: 2px; color: black\"> afl</span> <span style=\"background-color: hsl(197.18600749969482, 63%, 73%); padding: 2px; color: black\">.</span> <span style=\"background-color: hsl(282.2788095474243, 74%, 84%); padding: 2px; color: black\"> Hann</span> <span style=\"background-color: hsl(18.07821750640869, 61%, 71%); padding: 2px; color: black\"> var</span> <span style=\"background-color: hsl(200.8772850036621, 77%, 87%); padding: 2px; color: black\"> átján</span> <span style=\"background-color: hsl(141.13389015197754, 76%, 86%); padding: 2px; color: black\"> v</span> <span style=\"background-color: hsl(41.64316177368164, 75%, 85%); padding: 2px; color: black\">etra</span> <span style=\"background-color: hsl(211.7063283920288, 75%, 85%); padding: 2px; color: black\"> þá</span> <span style=\"background-color: hsl(12.72491455078125, 73%, 83%); padding: 2px; color: black\"> er</span> <span style=\"background-color: hsl(10.818014144897461, 76%, 86%); padding: 2px; color: black\"> þetta</span> <span style=\"background-color: hsl(18.07821750640869, 61%, 71%); padding: 2px; color: black\"> var</span> <span style=\"background-color: hsl(171.8366003036499, 74%, 84%); padding: 2px; color: black\"> tíðinda</span> <span style=\"background-color: hsl(334.7620439529419, 69%, 79%); padding: 2px; color: black\"> en</span> <span style=\"background-color: hsl(81.39049530029297, 75%, 85%); padding: 2px; color: black\"> þó</span> <span style=\"background-color: hsl(18.07821750640869, 61%, 71%); padding: 2px; color: black\"> var</span> <span style=\"background-color: hsl(90.55755615234375, 78%, 88%); padding: 2px; color: black\"> athæfi</span> <span style=\"background-color: hsl(265.97402572631836, 66%, 76%); padding: 2px; color: black\"> Þorsteins</span> <span style=\"background-color: hsl(148.39405059814453, 61%, 71%); padding: 2px; color: black\"> og</span> <span style=\"background-color: hsl(350.94439029693604, 76%, 86%); padding: 2px; color: black\"> allur</span> <span style=\"background-color: hsl(179.0967607498169, 80%, 90%); padding: 2px; color: black\"> fær</span> <span style=\"background-color: hsl(126.61352634429932, 64%, 74%); padding: 2px; color: black\">leikur</span> <span style=\"background-color: hsl(150.1785135269165, 78%, 88%); padding: 2px; color: black\"> með</span> <span style=\"background-color: hsl(137.56500720977783, 63%, 73%); padding: 2px; color: black\"> hinu</span> <span style=\"background-color: hsl(39.858741760253906, 79%, 89%); padding: 2px; color: black\"> betra</span> <span style=\"background-color: hsl(45.21204471588135, 67%, 77%); padding: 2px; color: black\"> meðall</span> <span style=\"background-color: hsl(65.20814895629883, 68%, 78%); padding: 2px; color: black\">agi</span> <span style=\"background-color: hsl(345.5910873413086, 67%, 77%); padding: 2px; color: black\"> að</span> <span style=\"background-color: hsl(329.28630352020264, 80%, 90%); padding: 2px; color: black\"> því</span> <span style=\"background-color: hsl(28.90726089477539, 80%, 90%); padding: 2px; color: black\"> sem</span> <span style=\"background-color: hsl(211.7063283920288, 75%, 85%); padding: 2px; color: black\"> þá</span> <span style=\"background-color: hsl(112.21564292907715, 74%, 84%); padding: 2px; color: black\"> voru</span> <span style=\"background-color: hsl(238.8401985168457, 60%, 70%); padding: 2px; color: black\"> ungir</span> <span style=\"background-color: hsl(209.92190837860107, 79%, 89%); padding: 2px; color: black\"> menn</span> <span style=\"background-color: hsl(197.18600749969482, 63%, 73%); padding: 2px; color: black\">.</span> <span style=\"background-color: hsl(307.62821674346924, 63%, 73%); padding: 2px; color: black\">\n",
       "</span> <span style=\"background-color: hsl(307.62821674346924, 63%, 73%); padding: 2px; color: black\">\n",
       "</span> <span style=\"background-color: hsl(271.4497661590576, 76%, 86%); padding: 2px; color: black\">Í</span> <span style=\"background-color: hsl(19.862637519836426, 78%, 88%); padding: 2px; color: black\"> þ</span> <span style=\"background-color: hsl(142.91831016540527, 72%, 82%); padding: 2px; color: black\">enna</span> <span style=\"background-color: hsl(46.99646472930908, 63%, 73%); padding: 2px; color: black\"> tíma</span> <span style=\"background-color: hsl(316.67279720306396, 65%, 75%); padding: 2px; color: black\"> þótt</span> <span style=\"background-color: hsl(303.9368963241577, 70%, 80%); padding: 2px; color: black\">ust</span> <span style=\"background-color: hsl(209.92190837860107, 79%, 89%); padding: 2px; color: black\"> menn</span> <span style=\"background-color: hsl(86.86623573303223, 64%, 74%); padding: 2px; color: black\"> þess</span> <span style=\"background-color: hsl(262.40514278411865, 74%, 84%); padding: 2px; color: black\"> verða</span> <span style=\"background-color: hsl(280.49434661865234, 78%, 88%); padding: 2px; color: black\"> varir</span> <span style=\"background-color: hsl(345.5910873413086, 67%, 77%); padding: 2px; color: black\"> að</span> <span style=\"background-color: hsl(114.00006294250488, 70%, 80%); padding: 2px; color: black\"> út</span> <span style=\"background-color: hsl(110.43118000030518, 78%, 88%); padding: 2px; color: black\">hlaup</span> <span style=\"background-color: hsl(294.89227294921875, 68%, 78%); padding: 2px; color: black\">smenn</span> <span style=\"background-color: hsl(164.69887733459473, 69%, 79%); padding: 2px; color: black\"> eða</span> <span style=\"background-color: hsl(132.08926677703857, 74%, 84%); padding: 2px; color: black\"> ill</span> <span style=\"background-color: hsl(244.31593894958496, 70%, 80%); padding: 2px; color: black\">virk</span> <span style=\"background-color: hsl(331.07072353363037, 76%, 86%); padding: 2px; color: black\">jar</span> <span style=\"background-color: hsl(359.98897075653076, 78%, 88%); padding: 2px; color: black\"> m</span> <span style=\"background-color: hsl(309.412636756897, 80%, 90%); padding: 2px; color: black\">undu</span> <span style=\"background-color: hsl(237.05573558807373, 64%, 74%); padding: 2px; color: black\"> vera</span> <span style=\"background-color: hsl(332.8551435470581, 72%, 82%); padding: 2px; color: black\"> á</span> <span style=\"background-color: hsl(104.95543956756592, 68%, 78%); padding: 2px; color: black\"> leið</span> <span style=\"background-color: hsl(191.83270454406738, 75%, 85%); padding: 2px; color: black\"> þeirri</span> <span style=\"background-color: hsl(12.72491455078125, 73%, 83%); padding: 2px; color: black\"> er</span> <span style=\"background-color: hsl(208.13748836517334, 62%, 72%); padding: 2px; color: black\"> liggur</span> <span style=\"background-color: hsl(332.8551435470581, 72%, 82%); padding: 2px; color: black\"> á</span> <span style=\"background-color: hsl(47.1189022064209, 64%, 74%); padding: 2px; color: black\"> milli</span> <span style=\"background-color: hsl(97.69527912139893, 62%, 72%); padding: 2px; color: black\"> Jam</span> <span style=\"background-color: hsl(162.79197692871094, 72%, 82%); padding: 2px; color: black\">tal</span> <span style=\"background-color: hsl(354.6356678009033, 69%, 79%); padding: 2px; color: black\">ands</span> <span style=\"background-color: hsl(148.39405059814453, 61%, 71%); padding: 2px; color: black\"> og</span> <span style=\"background-color: hsl(1.7734336853027344, 74%, 84%); padding: 2px; color: black\"> R</span> <span style=\"background-color: hsl(153.86983394622803, 71%, 81%); padding: 2px; color: black\">aum</span> <span style=\"background-color: hsl(133.87372970581055, 70%, 80%); padding: 2px; color: black\">s</span> <span style=\"background-color: hsl(307.5057363510132, 62%, 72%); padding: 2px; color: black\">dals</span> <span style=\"background-color: hsl(329.28630352020264, 80%, 90%); padding: 2px; color: black\"> því</span> <span style=\"background-color: hsl(345.5910873413086, 67%, 77%); padding: 2px; color: black\"> að</span> <span style=\"background-color: hsl(14.509334564208984, 69%, 79%); padding: 2px; color: black\"> engir</span> <span style=\"background-color: hsl(256.9294023513794, 64%, 74%); padding: 2px; color: black\"> komu</span> <span style=\"background-color: hsl(153.74735355377197, 70%, 80%); padding: 2px; color: black\"> aftur</span> <span style=\"background-color: hsl(186.35696411132812, 65%, 75%); padding: 2px; color: black\"> þeir</span> <span style=\"background-color: hsl(12.72491455078125, 73%, 83%); padding: 2px; color: black\"> er</span> <span style=\"background-color: hsl(206.23058795928955, 65%, 75%); padding: 2px; color: black\"> fóru</span> <span style=\"background-color: hsl(148.39405059814453, 61%, 71%); padding: 2px; color: black\"> og</span> <span style=\"background-color: hsl(316.67279720306396, 65%, 75%); padding: 2px; color: black\"> þótt</span> <span style=\"background-color: hsl(289.4165325164795, 79%, 89%); padding: 2px; color: black\"> saman</span> <span style=\"background-color: hsl(240.62461853027344, 77%, 87%); padding: 2px; color: black\"> væru</span> <span style=\"background-color: hsl(235.14887809753418, 67%, 77%); padding: 2px; color: black\"> fimmtán</span> <span style=\"background-color: hsl(164.69887733459473, 69%, 79%); padding: 2px; color: black\"> eða</span> <span style=\"background-color: hsl(215.27521133422852, 67%, 77%); padding: 2px; color: black\"> tuttugu</span> <span style=\"background-color: hsl(211.7063283920288, 75%, 85%); padding: 2px; color: black\"> þá</span> <span style=\"background-color: hsl(235.271315574646, 68%, 78%); padding: 2px; color: black\"> höfðu</span> <span style=\"background-color: hsl(81.39049530029297, 75%, 85%); padding: 2px; color: black\"> þó</span> <span style=\"background-color: hsl(14.509334564208984, 69%, 79%); padding: 2px; color: black\"> engir</span> <span style=\"background-color: hsl(153.74735355377197, 70%, 80%); padding: 2px; color: black\"> aftur</span> <span style=\"background-color: hsl(48.90336513519287, 60%, 70%); padding: 2px; color: black\"> komið</span> <span style=\"background-color: hsl(148.39405059814453, 61%, 71%); padding: 2px; color: black\"> og</span> <span style=\"background-color: hsl(316.67279720306396, 65%, 75%); padding: 2px; color: black\"> þótt</span> <span style=\"background-color: hsl(303.9368963241577, 70%, 80%); padding: 2px; color: black\">ust</span> <span style=\"background-color: hsl(209.92190837860107, 79%, 89%); padding: 2px; color: black\"> menn</span> <span style=\"background-color: hsl(329.28630352020264, 80%, 90%); padding: 2px; color: black\"> því</span> <span style=\"background-color: hsl(106.73990249633789, 64%, 74%); padding: 2px; color: black\"> vita</span> <span style=\"background-color: hsl(345.5910873413086, 67%, 77%); padding: 2px; color: black\"> að</span> <span style=\"background-color: hsl(311.1970567703247, 76%, 86%); padding: 2px; color: black\"> frá</span> <span style=\"background-color: hsl(115.78448295593262, 66%, 76%); padding: 2px; color: black\">gerð</span> <span style=\"background-color: hsl(258.71382236480713, 60%, 70%); padding: 2px; color: black\">amaður</span> <span style=\"background-color: hsl(81.51293277740479, 76%, 86%); padding: 2px; color: black\"> mundi</span> <span style=\"background-color: hsl(293.107852935791, 72%, 82%); padding: 2px; color: black\"> úti</span> <span style=\"background-color: hsl(162.91441440582275, 73%, 83%); padding: 2px; color: black\"> liggja</span> <span style=\"background-color: hsl(197.18600749969482, 63%, 73%); padding: 2px; color: black\">.</span> <span style=\"background-color: hsl(181.00366115570068, 77%, 87%); padding: 2px; color: black\"> Menn</span> <span style=\"background-color: hsl(54.25666809082031, 69%, 79%); padding: 2px; color: black\"> K</span> <span style=\"background-color: hsl(7.249174118041992, 63%, 73%); padding: 2px; color: black\">et</span> <span style=\"background-color: hsl(74.2527723312378, 70%, 80%); padding: 2px; color: black\">ils</span> <span style=\"background-color: hsl(298.46115589141846, 60%, 70%); padding: 2px; color: black\"> bónda</span> <span style=\"background-color: hsl(95.91085910797119, 66%, 76%); padding: 2px; color: black\"> urðu</span> <span style=\"background-color: hsl(144.70277309417725, 68%, 78%); padding: 2px; color: black\"> minnst</span> <span style=\"background-color: hsl(253.23808193206787, 71%, 81%); padding: 2px; color: black\"> fyrir</span> <span style=\"background-color: hsl(144.82521057128906, 69%, 79%); padding: 2px; color: black\"> þessum</span> <span style=\"background-color: hsl(262.28270530700684, 73%, 83%); padding: 2px; color: black\"> óf</span> <span style=\"background-color: hsl(298.5835933685303, 61%, 71%); padding: 2px; color: black\">riði</span> <span style=\"background-color: hsl(189.9258041381836, 78%, 88%); padding: 2px; color: black\">,</span> <span style=\"background-color: hsl(318.45726013183594, 61%, 71%); padding: 2px; color: black\"> bæði</span> <span style=\"background-color: hsl(180.88122367858887, 76%, 86%); padding: 2px; color: black\"> mannd</span> <span style=\"background-color: hsl(59.73240852355957, 79%, 89%); padding: 2px; color: black\">rá</span> <span style=\"background-color: hsl(9.033594131469727, 80%, 90%); padding: 2px; color: black\">pum</span> <span style=\"background-color: hsl(148.39405059814453, 61%, 71%); padding: 2px; color: black\"> og</span> <span style=\"background-color: hsl(79.606032371521, 79%, 89%); padding: 2px; color: black\"> fé</span> <span style=\"background-color: hsl(83.29735279083252, 72%, 82%); padding: 2px; color: black\">sk</span> <span style=\"background-color: hsl(264.1895627975464, 70%, 80%); padding: 2px; color: black\">öðum</span> <span style=\"background-color: hsl(189.9258041381836, 78%, 88%); padding: 2px; color: black\">,</span> <span style=\"background-color: hsl(148.39405059814453, 61%, 71%); padding: 2px; color: black\"> og</span> <span style=\"background-color: hsl(151.96293354034424, 74%, 84%); padding: 2px; color: black\"> gerðu</span> <span style=\"background-color: hsl(209.92190837860107, 79%, 89%); padding: 2px; color: black\"> menn</span> <span style=\"background-color: hsl(302.15247631073, 74%, 84%); padding: 2px; color: black\"> mikið</span> <span style=\"background-color: hsl(249.6692419052124, 79%, 89%); padding: 2px; color: black\"> orð</span> <span style=\"background-color: hsl(332.8551435470581, 72%, 82%); padding: 2px; color: black\"> á</span> <span style=\"background-color: hsl(316.55035972595215, 64%, 74%); padding: 2px; color: black\"> til</span> <span style=\"background-color: hsl(332.8551435470581, 72%, 82%); padding: 2px; color: black\"> á</span> <span style=\"background-color: hsl(52.47220516204834, 73%, 83%); padding: 2px; color: black\">mælis</span> <span style=\"background-color: hsl(345.5910873413086, 67%, 77%); padding: 2px; color: black\"> að</span> <span style=\"background-color: hsl(90.4350757598877, 77%, 87%); padding: 2px; color: black\"> sá</span> <span style=\"background-color: hsl(117.56894588470459, 62%, 72%); padding: 2px; color: black\"> væri</span> <span style=\"background-color: hsl(70.56145191192627, 77%, 87%); padding: 2px; color: black\"> mikill</span> <span style=\"background-color: hsl(3.680291175842285, 71%, 81%); padding: 2px; color: black\"> van</span> <span style=\"background-color: hsl(83.29735279083252, 72%, 82%); padding: 2px; color: black\">sk</span> <span style=\"background-color: hsl(135.7805871963501, 67%, 77%); padding: 2px; color: black\">ör</span> <span style=\"background-color: hsl(161.0075569152832, 76%, 86%); padding: 2px; color: black\">ungur</span> <span style=\"background-color: hsl(12.72491455078125, 73%, 83%); padding: 2px; color: black\"> er</span> <span style=\"background-color: hsl(50.687785148620605, 77%, 87%); padding: 2px; color: black\"> yfirmaður</span> <span style=\"background-color: hsl(18.07821750640869, 61%, 71%); padding: 2px; color: black\"> var</span> <span style=\"background-color: hsl(86.86623573303223, 64%, 74%); padding: 2px; color: black\"> þess</span> <span style=\"background-color: hsl(220.75095176696777, 77%, 87%); padding: 2px; color: black\"> héraðs</span> <span style=\"background-color: hsl(345.5910873413086, 67%, 77%); padding: 2px; color: black\"> að</span> <span style=\"background-color: hsl(253.3605194091797, 72%, 82%); padding: 2px; color: black\"> engar</span> <span style=\"background-color: hsl(123.04468631744385, 72%, 82%); padding: 2px; color: black\"> aðgerðir</span> <span style=\"background-color: hsl(190.0482416152954, 79%, 89%); padding: 2px; color: black\"> skyldu</span> <span style=\"background-color: hsl(275.0186061859131, 68%, 78%); padding: 2px; color: black\"> í</span> <span style=\"background-color: hsl(312.9815196990967, 72%, 82%); padding: 2px; color: black\"> mót</span> <span style=\"background-color: hsl(130.30484676361084, 78%, 88%); padding: 2px; color: black\"> koma</span> <span style=\"background-color: hsl(251.45366191864014, 75%, 85%); padding: 2px; color: black\"> slíkum</span> <span style=\"background-color: hsl(247.88477897644043, 62%, 72%); padding: 2px; color: black\"> óh</span> <span style=\"background-color: hsl(228.011155128479, 62%, 72%); padding: 2px; color: black\">æfum</span> <span style=\"background-color: hsl(148.39405059814453, 61%, 71%); padding: 2px; color: black\"> og</span> <span style=\"background-color: hsl(119.47580337524414, 80%, 90%); padding: 2px; color: black\"> kv</span> <span style=\"background-color: hsl(25.338377952575684, 67%, 77%); padding: 2px; color: black\">áðu</span> <span style=\"background-color: hsl(68.7769889831543, 60%, 70%); padding: 2px; color: black\"> Ketil</span> <span style=\"background-color: hsl(32.598581314086914, 73%, 83%); padding: 2px; color: black\"> nú</span> <span style=\"background-color: hsl(72.46830940246582, 74%, 84%); padding: 2px; color: black\"> mjög</span> <span style=\"background-color: hsl(57.9479455947876, 62%, 72%); padding: 2px; color: black\"> eldast</span> <span style=\"background-color: hsl(334.7620439529419, 69%, 79%); padding: 2px; color: black\"> en</span> <span style=\"background-color: hsl(126.73596382141113, 65%, 75%); padding: 2px; color: black\"> hann</span> <span style=\"background-color: hsl(325.71742057800293, 67%, 77%); padding: 2px; color: black\"> gaf</span> <span style=\"background-color: hsl(246.1003589630127, 66%, 76%); padding: 2px; color: black\"> sér</span> <span style=\"background-color: hsl(271.3273286819458, 75%, 85%); padding: 2px; color: black\"> fátt</span> <span style=\"background-color: hsl(175.52792072296143, 67%, 77%); padding: 2px; color: black\"> um</span> <span style=\"background-color: hsl(334.7620439529419, 69%, 79%); padding: 2px; color: black\"> en</span> <span style=\"background-color: hsl(108.52432250976562, 60%, 70%); padding: 2px; color: black\"> þótti</span> <span style=\"background-color: hsl(81.39049530029297, 75%, 85%); padding: 2px; color: black\"> þó</span> <span style=\"background-color: hsl(54.37910556793213, 70%, 80%); padding: 2px; color: black\"> eftir</span> <span style=\"background-color: hsl(329.28630352020264, 80%, 90%); padding: 2px; color: black\"> því</span> <span style=\"background-color: hsl(28.90726089477539, 80%, 90%); padding: 2px; color: black\"> sem</span> <span style=\"background-color: hsl(186.35696411132812, 65%, 75%); padding: 2px; color: black\"> þeir</span> <span style=\"background-color: hsl(76.03719234466553, 66%, 76%); padding: 2px; color: black\"> sögðu</span> <span style=\"background-color: hsl(197.18600749969482, 63%, 73%); padding: 2px; color: black\">.</span> <span style=\"background-color: hsl(307.62821674346924, 63%, 73%); padding: 2px; color: black\">\n",
       "</span> "
      ],
      "text/plain": [
       "<IPython.core.display.HTML object>"
      ]
     },
     "metadata": {},
     "output_type": "display_data"
    },
    {
     "name": "stdout",
     "output_type": "stream",
     "text": [
      "Number of Tokens: 366\n",
      "Number of Characters: 1450\n",
      "==================================================\n"
     ]
    }
   ],
   "source": [
    "from tokenizers.tools import EncodingVisualizer\n",
    "from bs4 import BeautifulSoup as bs\n",
    "from transformers import AutoTokenizer\n",
    "from IPython.display import HTML, display\n",
    "\n",
    "model = \"./new_tokenizer\"\n",
    "# tokenizer = AutoTokenizer.from_pretrained(\"jonfd/gpt2-igc-is\")\n",
    "tokenizer = AutoTokenizer.from_pretrained(model)\n",
    "viz = EncodingVisualizer(tokenizer._tokenizer)\n",
    "html = viz(text, default_to_notebook=False)\n",
    "soup = bs(html, \"html.parser\")\n",
    "spans = soup.find_all(\"span\")\n",
    "\n",
    "# extract text\n",
    "tokens = [span.text for span in spans]\n",
    "token_colors = get_token_colors(tokens)\n",
    "\n",
    "display(HTML(f\"<p ><b>Model:</b> {model}</p><p><b>Tokens:</b>\"))\n",
    "display_colored_tokens(tokens, token_colors)\n",
    "\n",
    "# Calculate and display the number of tokens and characters\n",
    "num_tokens = len(tokens)\n",
    "num_chars = len(text)\n",
    "print(f\"Number of Tokens: {num_tokens}\")\n",
    "print(f\"Number of Characters: {num_chars}\")\n",
    "\n",
    "print(\"=\" * 50)"
   ]
  }
 ],
 "metadata": {
  "kernelspec": {
   "display_name": "Python 3",
   "language": "python",
   "name": "python3"
  },
  "language_info": {
   "codemirror_mode": {
    "name": "ipython",
    "version": 3
   },
   "file_extension": ".py",
   "mimetype": "text/x-python",
   "name": "python",
   "nbconvert_exporter": "python",
   "pygments_lexer": "ipython3",
   "version": "3.9.1"
  }
 },
 "nbformat": 4,
 "nbformat_minor": 2
}
